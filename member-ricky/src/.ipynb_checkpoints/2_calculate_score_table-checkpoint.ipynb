{
 "cells": [
  {
   "cell_type": "code",
   "execution_count": 1,
   "metadata": {
    "ExecuteTime": {
     "end_time": "2019-10-07T02:16:01.513337Z",
     "start_time": "2019-10-07T02:16:01.021798Z"
    }
   },
   "outputs": [],
   "source": [
    "# Generate TER Table from specified dataset\n",
    "import pandas as pd"
   ]
  },
  {
   "cell_type": "code",
   "execution_count": 2,
   "metadata": {
    "ExecuteTime": {
     "end_time": "2019-10-07T02:16:01.558648Z",
     "start_time": "2019-10-07T02:16:01.514924Z"
    }
   },
   "outputs": [],
   "source": [
    "df = pd.read_csv(\"../csv/10k.csv\")"
   ]
  },
  {
   "cell_type": "code",
   "execution_count": 3,
   "metadata": {
    "ExecuteTime": {
     "end_time": "2019-10-07T02:16:02.896520Z",
     "start_time": "2019-10-07T02:16:02.848256Z"
    }
   },
   "outputs": [
    {
     "data": {
      "text/html": [
       "<div>\n",
       "<style scoped>\n",
       "    .dataframe tbody tr th:only-of-type {\n",
       "        vertical-align: middle;\n",
       "    }\n",
       "\n",
       "    .dataframe tbody tr th {\n",
       "        vertical-align: top;\n",
       "    }\n",
       "\n",
       "    .dataframe thead th {\n",
       "        text-align: right;\n",
       "    }\n",
       "</style>\n",
       "<table border=\"1\" class=\"dataframe\">\n",
       "  <thead>\n",
       "    <tr style=\"text-align: right;\">\n",
       "      <th></th>\n",
       "      <th>Pickup_month</th>\n",
       "      <th>Pickup_day</th>\n",
       "      <th>Pickup_hour</th>\n",
       "      <th>Pickup_minute</th>\n",
       "      <th>Season</th>\n",
       "      <th>Pickup_week</th>\n",
       "      <th>Pickup_wday</th>\n",
       "      <th>Weekend</th>\n",
       "      <th>Time</th>\n",
       "      <th>Borough</th>\n",
       "      <th>Zone</th>\n",
       "      <th>Pickup_cell</th>\n",
       "      <th>Number_trips</th>\n",
       "      <th>Median_earnings</th>\n",
       "      <th>Median_distance</th>\n",
       "      <th>Median_duration</th>\n",
       "    </tr>\n",
       "  </thead>\n",
       "  <tbody>\n",
       "    <tr>\n",
       "      <th>0</th>\n",
       "      <td>Jul</td>\n",
       "      <td>1</td>\n",
       "      <td>0</td>\n",
       "      <td>5</td>\n",
       "      <td>Summer</td>\n",
       "      <td>27</td>\n",
       "      <td>Fri</td>\n",
       "      <td>False</td>\n",
       "      <td>Nighttime</td>\n",
       "      <td>Manhattan</td>\n",
       "      <td>Gramercy</td>\n",
       "      <td>27:70</td>\n",
       "      <td>1</td>\n",
       "      <td>16.00</td>\n",
       "      <td>2.80</td>\n",
       "      <td>18.18</td>\n",
       "    </tr>\n",
       "    <tr>\n",
       "      <th>1</th>\n",
       "      <td>Jul</td>\n",
       "      <td>1</td>\n",
       "      <td>0</td>\n",
       "      <td>5</td>\n",
       "      <td>Summer</td>\n",
       "      <td>27</td>\n",
       "      <td>Fri</td>\n",
       "      <td>False</td>\n",
       "      <td>Nighttime</td>\n",
       "      <td>Manhattan</td>\n",
       "      <td>Upper East Side South</td>\n",
       "      <td>26:63</td>\n",
       "      <td>2</td>\n",
       "      <td>7.00</td>\n",
       "      <td>0.95</td>\n",
       "      <td>5.54</td>\n",
       "    </tr>\n",
       "    <tr>\n",
       "      <th>2</th>\n",
       "      <td>Jul</td>\n",
       "      <td>1</td>\n",
       "      <td>0</td>\n",
       "      <td>5</td>\n",
       "      <td>Summer</td>\n",
       "      <td>27</td>\n",
       "      <td>Fri</td>\n",
       "      <td>False</td>\n",
       "      <td>Nighttime</td>\n",
       "      <td>Manhattan</td>\n",
       "      <td>Flatiron</td>\n",
       "      <td>25:69</td>\n",
       "      <td>4</td>\n",
       "      <td>6.25</td>\n",
       "      <td>0.85</td>\n",
       "      <td>4.50</td>\n",
       "    </tr>\n",
       "    <tr>\n",
       "      <th>3</th>\n",
       "      <td>Jul</td>\n",
       "      <td>1</td>\n",
       "      <td>0</td>\n",
       "      <td>5</td>\n",
       "      <td>Summer</td>\n",
       "      <td>27</td>\n",
       "      <td>Fri</td>\n",
       "      <td>False</td>\n",
       "      <td>Nighttime</td>\n",
       "      <td>Manhattan</td>\n",
       "      <td>Meatpacking/West Village West</td>\n",
       "      <td>23:72</td>\n",
       "      <td>4</td>\n",
       "      <td>11.25</td>\n",
       "      <td>2.20</td>\n",
       "      <td>10.79</td>\n",
       "    </tr>\n",
       "    <tr>\n",
       "      <th>4</th>\n",
       "      <td>Jul</td>\n",
       "      <td>1</td>\n",
       "      <td>0</td>\n",
       "      <td>5</td>\n",
       "      <td>Summer</td>\n",
       "      <td>27</td>\n",
       "      <td>Fri</td>\n",
       "      <td>False</td>\n",
       "      <td>Nighttime</td>\n",
       "      <td>Manhattan</td>\n",
       "      <td>UN/Turtle Bay South</td>\n",
       "      <td>28:66</td>\n",
       "      <td>1</td>\n",
       "      <td>6.50</td>\n",
       "      <td>0.90</td>\n",
       "      <td>4.65</td>\n",
       "    </tr>\n",
       "  </tbody>\n",
       "</table>\n",
       "</div>"
      ],
      "text/plain": [
       "  Pickup_month  Pickup_day  Pickup_hour  Pickup_minute  Season  Pickup_week  \\\n",
       "0          Jul           1            0              5  Summer           27   \n",
       "1          Jul           1            0              5  Summer           27   \n",
       "2          Jul           1            0              5  Summer           27   \n",
       "3          Jul           1            0              5  Summer           27   \n",
       "4          Jul           1            0              5  Summer           27   \n",
       "\n",
       "  Pickup_wday  Weekend       Time    Borough                           Zone  \\\n",
       "0         Fri    False  Nighttime  Manhattan                       Gramercy   \n",
       "1         Fri    False  Nighttime  Manhattan          Upper East Side South   \n",
       "2         Fri    False  Nighttime  Manhattan                       Flatiron   \n",
       "3         Fri    False  Nighttime  Manhattan  Meatpacking/West Village West   \n",
       "4         Fri    False  Nighttime  Manhattan            UN/Turtle Bay South   \n",
       "\n",
       "  Pickup_cell  Number_trips  Median_earnings  Median_distance  Median_duration  \n",
       "0       27:70             1            16.00             2.80            18.18  \n",
       "1       26:63             2             7.00             0.95             5.54  \n",
       "2       25:69             4             6.25             0.85             4.50  \n",
       "3       23:72             4            11.25             2.20            10.79  \n",
       "4       28:66             1             6.50             0.90             4.65  "
      ]
     },
     "execution_count": 3,
     "metadata": {},
     "output_type": "execute_result"
    }
   ],
   "source": [
    "df.head()"
   ]
  },
  {
   "cell_type": "code",
   "execution_count": 39,
   "metadata": {},
   "outputs": [],
   "source": [
    "# Convert string type to datetime\n",
    "df['tpep_pickup_datetime'] = pd.to_datetime(df['tpep_pickup_datetime'])\n",
    "df['tpep_dropoff_datetime'] = pd.to_datetime(df['tpep_dropoff_datetime'])"
   ]
  },
  {
   "cell_type": "code",
   "execution_count": 40,
   "metadata": {},
   "outputs": [],
   "source": [
    "# Total earninigs = tip_amount + total_amount\n",
    "df['total_earnings'] = df[\"tip_amount\"] + df['total_amount']"
   ]
  },
  {
   "cell_type": "code",
   "execution_count": 41,
   "metadata": {},
   "outputs": [],
   "source": [
    "# Calculate trip_duration in seconds\n",
    "df[\"trip_duration\"] = (df['tpep_dropoff_datetime'] - df['tpep_pickup_datetime']).dt.total_seconds()"
   ]
  },
  {
   "cell_type": "code",
   "execution_count": 42,
   "metadata": {},
   "outputs": [],
   "source": [
    "# Extract day of week and minute of day\n",
    "df[\"day_of_week\"] = df[\"tpep_pickup_datetime\"].dt.weekday.astype(str)\n",
    "df[\"minute_of_day\"] = df[\"tpep_pickup_datetime\"].dt.time"
   ]
  },
  {
   "cell_type": "code",
   "execution_count": 50,
   "metadata": {},
   "outputs": [],
   "source": [
    "# Round down time to nearest minute\n",
    "df['minute_of_day'] =  [i.replace(second=0) for i in df['minute_of_day']]"
   ]
  },
  {
   "cell_type": "code",
   "execution_count": 51,
   "metadata": {},
   "outputs": [],
   "source": [
    "# Compute frequency and TER\n",
    "df_ter = df.groupby([\"PickupCell\", \"day_of_week\", \"minute_of_day\"]) \\\n",
    "            .size() \\\n",
    "            .to_frame(name='frequency') \\\n",
    "            .join(df.groupby([\"PickupCell\", \"day_of_week\", \"minute_of_day\"]) \\\n",
    "                    .agg({\"total_earnings\":\"mean\", \"trip_duration\":\"mean\"}) \\\n",
    "                    .rename(columns={\"trip_duration\":\"avg(td)\", \"total_earnings\":\"avg(te)\"}) \\\n",
    "            ).reset_index()"
   ]
  },
  {
   "cell_type": "code",
   "execution_count": 52,
   "metadata": {},
   "outputs": [],
   "source": [
    "df_ter['avg(ter)'] = df_ter['avg(te)']/df_ter['avg(td)']"
   ]
  },
  {
   "cell_type": "code",
   "execution_count": 53,
   "metadata": {},
   "outputs": [],
   "source": [
    "df_ter.to_csv(\"../csv/df_score_table.csv\", index=False)"
   ]
  },
  {
   "cell_type": "code",
   "execution_count": 55,
   "metadata": {},
   "outputs": [
    {
     "data": {
      "text/plain": [
       "'6'"
      ]
     },
     "execution_count": 55,
     "metadata": {},
     "output_type": "execute_result"
    }
   ],
   "source": [
    "df_ter['day_of_week'][0]"
   ]
  },
  {
   "cell_type": "code",
   "execution_count": null,
   "metadata": {},
   "outputs": [],
   "source": []
  }
 ],
 "metadata": {
  "kernelspec": {
   "display_name": "Python 3",
   "language": "python",
   "name": "python3"
  },
  "language_info": {
   "codemirror_mode": {
    "name": "ipython",
    "version": 3
   },
   "file_extension": ".py",
   "mimetype": "text/x-python",
   "name": "python",
   "nbconvert_exporter": "python",
   "pygments_lexer": "ipython3",
   "version": "3.7.3"
  }
 },
 "nbformat": 4,
 "nbformat_minor": 2
}
