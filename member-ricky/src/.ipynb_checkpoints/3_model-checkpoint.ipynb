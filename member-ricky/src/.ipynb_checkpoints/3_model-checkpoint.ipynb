{
 "cells": [
  {
   "cell_type": "code",
   "execution_count": 1,
   "metadata": {
    "ExecuteTime": {
     "end_time": "2019-10-07T02:16:45.419063Z",
     "start_time": "2019-10-07T02:16:45.175211Z"
    }
   },
   "outputs": [],
   "source": [
    "import pandas as pd"
   ]
  },
  {
   "cell_type": "code",
   "execution_count": 2,
   "metadata": {
    "ExecuteTime": {
     "end_time": "2019-10-07T02:16:58.232265Z",
     "start_time": "2019-10-07T02:16:58.173120Z"
    }
   },
   "outputs": [],
   "source": [
    "df_st = pd.read_csv(\"../csv/10k.csv\")"
   ]
  },
  {
   "cell_type": "code",
   "execution_count": 4,
   "metadata": {
    "ExecuteTime": {
     "end_time": "2019-10-07T02:17:02.425176Z",
     "start_time": "2019-10-07T02:17:02.393397Z"
    }
   },
   "outputs": [
    {
     "data": {
      "text/html": [
       "<div>\n",
       "<style scoped>\n",
       "    .dataframe tbody tr th:only-of-type {\n",
       "        vertical-align: middle;\n",
       "    }\n",
       "\n",
       "    .dataframe tbody tr th {\n",
       "        vertical-align: top;\n",
       "    }\n",
       "\n",
       "    .dataframe thead th {\n",
       "        text-align: right;\n",
       "    }\n",
       "</style>\n",
       "<table border=\"1\" class=\"dataframe\">\n",
       "  <thead>\n",
       "    <tr style=\"text-align: right;\">\n",
       "      <th></th>\n",
       "      <th>Pickup_month</th>\n",
       "      <th>Pickup_day</th>\n",
       "      <th>Pickup_hour</th>\n",
       "      <th>Pickup_minute</th>\n",
       "      <th>Season</th>\n",
       "      <th>Pickup_week</th>\n",
       "      <th>Pickup_wday</th>\n",
       "      <th>Weekend</th>\n",
       "      <th>Time</th>\n",
       "      <th>Borough</th>\n",
       "      <th>Zone</th>\n",
       "      <th>Pickup_cell</th>\n",
       "      <th>Number_trips</th>\n",
       "      <th>Median_earnings</th>\n",
       "      <th>Median_distance</th>\n",
       "      <th>Median_duration</th>\n",
       "    </tr>\n",
       "  </thead>\n",
       "  <tbody>\n",
       "    <tr>\n",
       "      <th>0</th>\n",
       "      <td>Jul</td>\n",
       "      <td>1</td>\n",
       "      <td>0</td>\n",
       "      <td>5</td>\n",
       "      <td>Summer</td>\n",
       "      <td>27</td>\n",
       "      <td>Fri</td>\n",
       "      <td>False</td>\n",
       "      <td>Nighttime</td>\n",
       "      <td>Manhattan</td>\n",
       "      <td>Gramercy</td>\n",
       "      <td>27:70</td>\n",
       "      <td>1</td>\n",
       "      <td>16.00</td>\n",
       "      <td>2.80</td>\n",
       "      <td>18.18</td>\n",
       "    </tr>\n",
       "    <tr>\n",
       "      <th>1</th>\n",
       "      <td>Jul</td>\n",
       "      <td>1</td>\n",
       "      <td>0</td>\n",
       "      <td>5</td>\n",
       "      <td>Summer</td>\n",
       "      <td>27</td>\n",
       "      <td>Fri</td>\n",
       "      <td>False</td>\n",
       "      <td>Nighttime</td>\n",
       "      <td>Manhattan</td>\n",
       "      <td>Upper East Side South</td>\n",
       "      <td>26:63</td>\n",
       "      <td>2</td>\n",
       "      <td>7.00</td>\n",
       "      <td>0.95</td>\n",
       "      <td>5.54</td>\n",
       "    </tr>\n",
       "    <tr>\n",
       "      <th>2</th>\n",
       "      <td>Jul</td>\n",
       "      <td>1</td>\n",
       "      <td>0</td>\n",
       "      <td>5</td>\n",
       "      <td>Summer</td>\n",
       "      <td>27</td>\n",
       "      <td>Fri</td>\n",
       "      <td>False</td>\n",
       "      <td>Nighttime</td>\n",
       "      <td>Manhattan</td>\n",
       "      <td>Flatiron</td>\n",
       "      <td>25:69</td>\n",
       "      <td>4</td>\n",
       "      <td>6.25</td>\n",
       "      <td>0.85</td>\n",
       "      <td>4.50</td>\n",
       "    </tr>\n",
       "    <tr>\n",
       "      <th>3</th>\n",
       "      <td>Jul</td>\n",
       "      <td>1</td>\n",
       "      <td>0</td>\n",
       "      <td>5</td>\n",
       "      <td>Summer</td>\n",
       "      <td>27</td>\n",
       "      <td>Fri</td>\n",
       "      <td>False</td>\n",
       "      <td>Nighttime</td>\n",
       "      <td>Manhattan</td>\n",
       "      <td>Meatpacking/West Village West</td>\n",
       "      <td>23:72</td>\n",
       "      <td>4</td>\n",
       "      <td>11.25</td>\n",
       "      <td>2.20</td>\n",
       "      <td>10.79</td>\n",
       "    </tr>\n",
       "    <tr>\n",
       "      <th>4</th>\n",
       "      <td>Jul</td>\n",
       "      <td>1</td>\n",
       "      <td>0</td>\n",
       "      <td>5</td>\n",
       "      <td>Summer</td>\n",
       "      <td>27</td>\n",
       "      <td>Fri</td>\n",
       "      <td>False</td>\n",
       "      <td>Nighttime</td>\n",
       "      <td>Manhattan</td>\n",
       "      <td>UN/Turtle Bay South</td>\n",
       "      <td>28:66</td>\n",
       "      <td>1</td>\n",
       "      <td>6.50</td>\n",
       "      <td>0.90</td>\n",
       "      <td>4.65</td>\n",
       "    </tr>\n",
       "  </tbody>\n",
       "</table>\n",
       "</div>"
      ],
      "text/plain": [
       "  Pickup_month  Pickup_day  Pickup_hour  Pickup_minute  Season  Pickup_week  \\\n",
       "0          Jul           1            0              5  Summer           27   \n",
       "1          Jul           1            0              5  Summer           27   \n",
       "2          Jul           1            0              5  Summer           27   \n",
       "3          Jul           1            0              5  Summer           27   \n",
       "4          Jul           1            0              5  Summer           27   \n",
       "\n",
       "  Pickup_wday  Weekend       Time    Borough                           Zone  \\\n",
       "0         Fri    False  Nighttime  Manhattan                       Gramercy   \n",
       "1         Fri    False  Nighttime  Manhattan          Upper East Side South   \n",
       "2         Fri    False  Nighttime  Manhattan                       Flatiron   \n",
       "3         Fri    False  Nighttime  Manhattan  Meatpacking/West Village West   \n",
       "4         Fri    False  Nighttime  Manhattan            UN/Turtle Bay South   \n",
       "\n",
       "  Pickup_cell  Number_trips  Median_earnings  Median_distance  Median_duration  \n",
       "0       27:70             1            16.00             2.80            18.18  \n",
       "1       26:63             2             7.00             0.95             5.54  \n",
       "2       25:69             4             6.25             0.85             4.50  \n",
       "3       23:72             4            11.25             2.20            10.79  \n",
       "4       28:66             1             6.50             0.90             4.65  "
      ]
     },
     "execution_count": 4,
     "metadata": {},
     "output_type": "execute_result"
    }
   ],
   "source": [
    "df_st.head()"
   ]
  },
  {
   "cell_type": "markdown",
   "metadata": {},
   "source": [
    "# Train Model"
   ]
  },
  {
   "cell_type": "code",
   "execution_count": 16,
   "metadata": {
    "ExecuteTime": {
     "end_time": "2019-10-03T06:43:34.330852Z",
     "start_time": "2019-10-03T06:43:34.327585Z"
    }
   },
   "outputs": [],
   "source": [
    "from sklearn.linear_model import LinearRegression"
   ]
  },
  {
   "cell_type": "code",
   "execution_count": 5,
   "metadata": {
    "ExecuteTime": {
     "end_time": "2019-10-07T02:18:10.610233Z",
     "start_time": "2019-10-07T02:18:10.603781Z"
    }
   },
   "outputs": [
    {
     "ename": "SyntaxError",
     "evalue": "invalid syntax (<ipython-input-5-fd5ef2ef0b21>, line 1)",
     "output_type": "error",
     "traceback": [
      "\u001b[0;36m  File \u001b[0;32m\"<ipython-input-5-fd5ef2ef0b21>\"\u001b[0;36m, line \u001b[0;32m1\u001b[0m\n\u001b[0;31m    X = df_st.loc[:, [0:11]]\u001b[0m\n\u001b[0m                       ^\u001b[0m\n\u001b[0;31mSyntaxError\u001b[0m\u001b[0;31m:\u001b[0m invalid syntax\n"
     ]
    }
   ],
   "source": [
    "X = df_st.loc[:, [0:11]]\n",
    "# y = df_st.loc[:,\"frequency\"].astype('float')"
   ]
  },
  {
   "cell_type": "code",
   "execution_count": 18,
   "metadata": {
    "ExecuteTime": {
     "end_time": "2019-10-03T06:43:36.785075Z",
     "start_time": "2019-10-03T06:43:36.781770Z"
    }
   },
   "outputs": [],
   "source": [
    "from sklearn.preprocessing import OneHotEncoder"
   ]
  },
  {
   "cell_type": "code",
   "execution_count": 19,
   "metadata": {
    "ExecuteTime": {
     "end_time": "2019-10-03T06:43:37.502834Z",
     "start_time": "2019-10-03T06:43:37.496458Z"
    }
   },
   "outputs": [],
   "source": [
    "ohe = OneHotEncoder()"
   ]
  },
  {
   "cell_type": "code",
   "execution_count": 20,
   "metadata": {
    "ExecuteTime": {
     "end_time": "2019-10-03T06:43:39.365707Z",
     "start_time": "2019-10-03T06:43:39.285650Z"
    }
   },
   "outputs": [
    {
     "data": {
      "text/plain": [
       "array([[1., 0., 0., ..., 0., 0., 0.],\n",
       "       [0., 1., 0., ..., 0., 0., 0.],\n",
       "       [0., 0., 1., ..., 0., 0., 0.],\n",
       "       ...,\n",
       "       [0., 0., 0., ..., 0., 0., 0.],\n",
       "       [0., 0., 0., ..., 0., 0., 0.],\n",
       "       [0., 0., 0., ..., 0., 0., 0.]])"
      ]
     },
     "execution_count": 20,
     "metadata": {},
     "output_type": "execute_result"
    }
   ],
   "source": [
    "train = ohe.fit_transform(X).toarray()\n",
    "train"
   ]
  },
  {
   "cell_type": "code",
   "execution_count": 90,
   "metadata": {
    "scrolled": true
   },
   "outputs": [
    {
     "data": {
      "text/plain": [
       "LinearRegression(copy_X=True, fit_intercept=True, n_jobs=None, normalize=False)"
      ]
     },
     "execution_count": 90,
     "metadata": {},
     "output_type": "execute_result"
    }
   ],
   "source": [
    "lr = LinearRegression()\n",
    "lr.fit(train, y)"
   ]
  },
  {
   "cell_type": "code",
   "execution_count": 91,
   "metadata": {},
   "outputs": [],
   "source": [
    "import numpy as np"
   ]
  },
  {
   "cell_type": "code",
   "execution_count": 92,
   "metadata": {},
   "outputs": [
    {
     "data": {
      "text/plain": [
       "str"
      ]
     },
     "execution_count": 92,
     "metadata": {},
     "output_type": "execute_result"
    }
   ],
   "source": [
    "type(X['day_of_week'][0])"
   ]
  },
  {
   "cell_type": "code",
   "execution_count": 93,
   "metadata": {},
   "outputs": [],
   "source": [
    "pred = ohe.transform(X.values[0].reshape(1,-1)).toarray()"
   ]
  },
  {
   "cell_type": "code",
   "execution_count": 94,
   "metadata": {},
   "outputs": [
    {
     "data": {
      "text/plain": [
       "array([0.99905396])"
      ]
     },
     "execution_count": 94,
     "metadata": {},
     "output_type": "execute_result"
    }
   ],
   "source": [
    "lr.predict(pred)"
   ]
  },
  {
   "cell_type": "code",
   "execution_count": 95,
   "metadata": {
    "scrolled": false
   },
   "outputs": [
    {
     "data": {
      "text/plain": [
       "1.0"
      ]
     },
     "execution_count": 95,
     "metadata": {},
     "output_type": "execute_result"
    }
   ],
   "source": [
    "y.iloc[0]"
   ]
  },
  {
   "cell_type": "code",
   "execution_count": 96,
   "metadata": {},
   "outputs": [],
   "source": [
    "import pickle"
   ]
  },
  {
   "cell_type": "code",
   "execution_count": 97,
   "metadata": {},
   "outputs": [],
   "source": [
    "with open('../model/lr.pickle', 'wb') as handle:\n",
    "    pickle.dump(lr, handle, protocol=pickle.HIGHEST_PROTOCOL)"
   ]
  },
  {
   "cell_type": "code",
   "execution_count": 98,
   "metadata": {},
   "outputs": [],
   "source": [
    "with open('../model/ohe.pickle', 'wb') as handle:\n",
    "    pickle.dump(ohe, handle, protocol=pickle.HIGHEST_PROTOCOL)"
   ]
  },
  {
   "cell_type": "code",
   "execution_count": null,
   "metadata": {},
   "outputs": [],
   "source": []
  }
 ],
 "metadata": {
  "kernelspec": {
   "display_name": "Python 3",
   "language": "python",
   "name": "python3"
  },
  "language_info": {
   "codemirror_mode": {
    "name": "ipython",
    "version": 3
   },
   "file_extension": ".py",
   "mimetype": "text/x-python",
   "name": "python",
   "nbconvert_exporter": "python",
   "pygments_lexer": "ipython3",
   "version": "3.7.3"
  }
 },
 "nbformat": 4,
 "nbformat_minor": 2
}
