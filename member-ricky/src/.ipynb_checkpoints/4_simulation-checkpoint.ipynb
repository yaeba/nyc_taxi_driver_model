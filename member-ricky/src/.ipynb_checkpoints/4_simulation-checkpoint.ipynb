{
 "cells": [
  {
   "cell_type": "code",
   "execution_count": 1,
   "metadata": {
    "ExecuteTime": {
     "end_time": "2019-10-08T05:13:50.280011Z",
     "start_time": "2019-10-08T05:13:49.801995Z"
    }
   },
   "outputs": [],
   "source": [
    "import pandas as pd"
   ]
  },
  {
   "cell_type": "code",
   "execution_count": 2,
   "metadata": {
    "ExecuteTime": {
     "end_time": "2019-10-08T05:13:50.285615Z",
     "start_time": "2019-10-08T05:13:50.281975Z"
    }
   },
   "outputs": [],
   "source": [
    "# Simulation\n",
    "current_cell = \"22:113\"\n",
    "current_datetime = pd.to_datetime(\"2015-07-23 14:29:57\")"
   ]
  },
  {
   "cell_type": "code",
   "execution_count": 3,
   "metadata": {
    "ExecuteTime": {
     "end_time": "2019-10-08T05:13:50.298300Z",
     "start_time": "2019-10-08T05:13:50.287480Z"
    }
   },
   "outputs": [
    {
     "data": {
      "text/plain": [
       "'14:29:57'"
      ]
     },
     "execution_count": 3,
     "metadata": {},
     "output_type": "execute_result"
    }
   ],
   "source": [
    "current_datetime.time().strftime(\"%H:%M:%S\")"
   ]
  },
  {
   "cell_type": "markdown",
   "metadata": {},
   "source": [
    "### Preprocess input"
   ]
  },
  {
   "cell_type": "code",
   "execution_count": 4,
   "metadata": {
    "ExecuteTime": {
     "end_time": "2019-10-08T05:13:50.958067Z",
     "start_time": "2019-10-08T05:13:50.949049Z"
    }
   },
   "outputs": [],
   "source": [
    "# Extract day of week and minute of day\n",
    "input = [current_cell,str(current_datetime.weekday()), current_datetime]"
   ]
  },
  {
   "cell_type": "code",
   "execution_count": 5,
   "metadata": {
    "ExecuteTime": {
     "end_time": "2019-10-08T05:13:51.351282Z",
     "start_time": "2019-10-08T05:13:51.346489Z"
    },
    "scrolled": true
   },
   "outputs": [
    {
     "data": {
      "text/plain": [
       "['22:113', '3', Timestamp('2015-07-23 14:29:57')]"
      ]
     },
     "execution_count": 5,
     "metadata": {},
     "output_type": "execute_result"
    }
   ],
   "source": [
    "input"
   ]
  },
  {
   "cell_type": "markdown",
   "metadata": {},
   "source": [
    "### Load graph and compute cost for all cells"
   ]
  },
  {
   "cell_type": "code",
   "execution_count": 8,
   "metadata": {
    "ExecuteTime": {
     "end_time": "2019-10-08T05:15:26.448500Z",
     "start_time": "2019-10-08T05:15:26.428970Z"
    }
   },
   "outputs": [
    {
     "ename": "ModuleNotFoundError",
     "evalue": "No module named 'bfs'",
     "output_type": "error",
     "traceback": [
      "\u001b[0;31m---------------------------------------------------------------------------\u001b[0m",
      "\u001b[0;31mModuleNotFoundError\u001b[0m                       Traceback (most recent call last)",
      "\u001b[0;32m<ipython-input-8-2187461cedb8>\u001b[0m in \u001b[0;36m<module>\u001b[0;34m\u001b[0m\n\u001b[0;32m----> 1\u001b[0;31m \u001b[0;32mimport\u001b[0m \u001b[0mbfs\u001b[0m\u001b[0;34m\u001b[0m\u001b[0;34m\u001b[0m\u001b[0m\n\u001b[0m",
      "\u001b[0;31mModuleNotFoundError\u001b[0m: No module named 'bfs'"
     ]
    }
   ],
   "source": [
    "import bfs"
   ]
  },
  {
   "cell_type": "code",
   "execution_count": 7,
   "metadata": {
    "ExecuteTime": {
     "end_time": "2019-10-08T05:13:52.186786Z",
     "start_time": "2019-10-08T05:13:52.167784Z"
    },
    "scrolled": true
   },
   "outputs": [
    {
     "ename": "NameError",
     "evalue": "name 'bfs' is not defined",
     "output_type": "error",
     "traceback": [
      "\u001b[0;31m---------------------------------------------------------------------------\u001b[0m",
      "\u001b[0;31mNameError\u001b[0m                                 Traceback (most recent call last)",
      "\u001b[0;32m<ipython-input-7-dea21619dbde>\u001b[0m in \u001b[0;36m<module>\u001b[0;34m\u001b[0m\n\u001b[0;32m----> 1\u001b[0;31m \u001b[0mgraph\u001b[0m \u001b[0;34m=\u001b[0m \u001b[0mbfs\u001b[0m\u001b[0;34m.\u001b[0m\u001b[0mload_graph\u001b[0m\u001b[0;34m(\u001b[0m\u001b[0;34m\"../data/graph.pkl\"\u001b[0m\u001b[0;34m)\u001b[0m\u001b[0;34m\u001b[0m\u001b[0;34m\u001b[0m\u001b[0m\n\u001b[0m",
      "\u001b[0;31mNameError\u001b[0m: name 'bfs' is not defined"
     ]
    }
   ],
   "source": [
    "graph = bfs.load_graph(\"../data/graph.pkl\")"
   ]
  },
  {
   "cell_type": "code",
   "execution_count": 153,
   "metadata": {
    "ExecuteTime": {
     "end_time": "2019-10-03T09:08:22.664299Z",
     "start_time": "2019-10-03T09:08:22.621057Z"
    }
   },
   "outputs": [],
   "source": [
    "costs = bfs.bfs(graph, current_cell)\n",
    "\n",
    "# Just a subset of the dictionary\n",
    "sp_dict = dict(list(costs.items()))"
   ]
  },
  {
   "cell_type": "markdown",
   "metadata": {},
   "source": [
    "### Load lr\n",
    "Frequency ~ PickupCell,day_of_week,minute_of_day"
   ]
  },
  {
   "cell_type": "code",
   "execution_count": 175,
   "metadata": {
    "ExecuteTime": {
     "end_time": "2019-10-03T09:16:21.983410Z",
     "start_time": "2019-10-03T09:16:21.975991Z"
    }
   },
   "outputs": [],
   "source": [
    "import pickle"
   ]
  },
  {
   "cell_type": "code",
   "execution_count": 176,
   "metadata": {
    "ExecuteTime": {
     "end_time": "2019-10-03T09:16:22.135582Z",
     "start_time": "2019-10-03T09:16:22.130837Z"
    }
   },
   "outputs": [],
   "source": [
    "with open('../model/lr.pickle', 'rb') as handle:\n",
    "    lr = pickle.load(handle)"
   ]
  },
  {
   "cell_type": "code",
   "execution_count": 177,
   "metadata": {
    "ExecuteTime": {
     "end_time": "2019-10-03T09:16:22.298053Z",
     "start_time": "2019-10-03T09:16:22.293655Z"
    }
   },
   "outputs": [],
   "source": [
    "with open('../model/ohe.pickle', 'rb') as handle:\n",
    "    ohe = pickle.load(handle)"
   ]
  },
  {
   "cell_type": "code",
   "execution_count": 178,
   "metadata": {
    "ExecuteTime": {
     "end_time": "2019-10-03T09:16:22.988116Z",
     "start_time": "2019-10-03T09:16:22.981796Z"
    }
   },
   "outputs": [],
   "source": [
    "from datetime import datetime \n",
    "from datetime import timedelta"
   ]
  },
  {
   "cell_type": "code",
   "execution_count": 179,
   "metadata": {
    "ExecuteTime": {
     "end_time": "2019-10-03T09:16:23.461944Z",
     "start_time": "2019-10-03T09:16:23.457785Z"
    }
   },
   "outputs": [],
   "source": [
    "import numpy as np"
   ]
  },
  {
   "cell_type": "code",
   "execution_count": 180,
   "metadata": {
    "ExecuteTime": {
     "end_time": "2019-10-03T09:17:38.604197Z",
     "start_time": "2019-10-03T09:17:38.551689Z"
    }
   },
   "outputs": [],
   "source": [
    "### Compute time when arrive at destination cell to get minute of day\n",
    "pred2d = []\n",
    "for k, v in sp_dict.items():\n",
    "    arr = [k, input[1], (input[2] + timedelta(minutes=v)).time().replace(second=0).strftime(\"%H:%M:%S\")]\n",
    "    pred2d.append(arr)\n",
    "pred2d = np.array(pred2d) \n",
    "df = pd.DataFrame(pred2d)"
   ]
  },
  {
   "cell_type": "code",
   "execution_count": 182,
   "metadata": {
    "ExecuteTime": {
     "end_time": "2019-10-03T09:18:03.237166Z",
     "start_time": "2019-10-03T09:18:02.668048Z"
    }
   },
   "outputs": [],
   "source": [
    "### Compute time when arrive at destination cell to get minute of day\n",
    "lr_dict = sp_dict.copy()\n",
    "for i, (k, v) in enumerate(sp_dict.items()):\n",
    "#     arr = np.array([k, input[1], (input[2] + timedelta(minutes=v)).time().replace(second=0).strftime(\"%H:%M:%S\")]).reshape(1,-1)\n",
    "    arr = df.values[i].reshape(1,-1)\n",
    "    try:\n",
    "        pred = ohe.transform(arr).toarray()\n",
    "        lr_dict[k] = lr.predict(pred)[0]\n",
    "    except ValueError:\n",
    "        lr_dict[k] = 0"
   ]
  },
  {
   "cell_type": "code",
   "execution_count": 184,
   "metadata": {
    "ExecuteTime": {
     "end_time": "2019-10-03T09:18:31.059391Z",
     "start_time": "2019-10-03T09:18:31.049446Z"
    }
   },
   "outputs": [],
   "source": [
    "score_dict = sp_dict.copy()\n",
    "for (k1,v1),(k2,v2) in zip(lr_dict.items(), sp_dict.items()):\n",
    "    try:\n",
    "        score_dict[k1] = v1/v2\n",
    "    except ZeroDivisionError:\n",
    "        score_dict[k1] = v1/0.0000001"
   ]
  },
  {
   "cell_type": "code",
   "execution_count": 185,
   "metadata": {
    "ExecuteTime": {
     "end_time": "2019-10-03T09:18:33.033813Z",
     "start_time": "2019-10-03T09:18:33.029887Z"
    }
   },
   "outputs": [],
   "source": [
    "best_cell = max(score_dict, key=score_dict.get)"
   ]
  },
  {
   "cell_type": "code",
   "execution_count": 186,
   "metadata": {
    "ExecuteTime": {
     "end_time": "2019-10-03T09:18:33.462556Z",
     "start_time": "2019-10-03T09:18:33.457026Z"
    },
    "scrolled": true
   },
   "outputs": [
    {
     "name": "stdout",
     "output_type": "stream",
     "text": [
      "1.0052490234375 23 0.043706479279891304\n"
     ]
    }
   ],
   "source": [
    "print(lr_dict[best_cell], sp_dict[best_cell], score_dict[best_cell] )"
   ]
  }
 ],
 "metadata": {
  "kernelspec": {
   "display_name": "Python 3",
   "language": "python",
   "name": "python3"
  },
  "language_info": {
   "codemirror_mode": {
    "name": "ipython",
    "version": 3
   },
   "file_extension": ".py",
   "mimetype": "text/x-python",
   "name": "python",
   "nbconvert_exporter": "python",
   "pygments_lexer": "ipython3",
   "version": "3.7.3"
  }
 },
 "nbformat": 4,
 "nbformat_minor": 2
}
