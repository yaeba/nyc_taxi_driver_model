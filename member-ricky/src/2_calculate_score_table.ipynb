{
 "cells": [
  {
   "cell_type": "code",
   "execution_count": 36,
   "metadata": {},
   "outputs": [],
   "source": [
    "# Generate TER Table from specified dataset\n",
    "import pandas as pd"
   ]
  },
  {
   "cell_type": "code",
   "execution_count": 37,
   "metadata": {},
   "outputs": [],
   "source": [
    "df = pd.read_csv(\"../csv/sample.csv\")"
   ]
  },
  {
   "cell_type": "code",
   "execution_count": 38,
   "metadata": {},
   "outputs": [
    {
     "data": {
      "text/html": [
       "<div>\n",
       "<style scoped>\n",
       "    .dataframe tbody tr th:only-of-type {\n",
       "        vertical-align: middle;\n",
       "    }\n",
       "\n",
       "    .dataframe tbody tr th {\n",
       "        vertical-align: top;\n",
       "    }\n",
       "\n",
       "    .dataframe thead th {\n",
       "        text-align: right;\n",
       "    }\n",
       "</style>\n",
       "<table border=\"1\" class=\"dataframe\">\n",
       "  <thead>\n",
       "    <tr style=\"text-align: right;\">\n",
       "      <th></th>\n",
       "      <th>VendorID</th>\n",
       "      <th>tpep_pickup_datetime</th>\n",
       "      <th>tpep_dropoff_datetime</th>\n",
       "      <th>passenger_count</th>\n",
       "      <th>trip_distance</th>\n",
       "      <th>pickup_longitude</th>\n",
       "      <th>pickup_latitude</th>\n",
       "      <th>RatecodeID</th>\n",
       "      <th>store_and_fwd_flag</th>\n",
       "      <th>dropoff_longitude</th>\n",
       "      <th>...</th>\n",
       "      <th>fare_amount</th>\n",
       "      <th>extra</th>\n",
       "      <th>mta_tax</th>\n",
       "      <th>tip_amount</th>\n",
       "      <th>tolls_amount</th>\n",
       "      <th>improvement_surcharge</th>\n",
       "      <th>total_amount</th>\n",
       "      <th>PickupCell</th>\n",
       "      <th>DropoffCell</th>\n",
       "      <th>Unnamed: 21</th>\n",
       "    </tr>\n",
       "  </thead>\n",
       "  <tbody>\n",
       "    <tr>\n",
       "      <th>0</th>\n",
       "      <td>1</td>\n",
       "      <td>2015-07-13 14:29:57</td>\n",
       "      <td>2015-07-13 15:19:06</td>\n",
       "      <td>2</td>\n",
       "      <td>17.80</td>\n",
       "      <td>-73.787956</td>\n",
       "      <td>40.641628</td>\n",
       "      <td>2</td>\n",
       "      <td>N</td>\n",
       "      <td>-73.969269</td>\n",
       "      <td>...</td>\n",
       "      <td>52.0</td>\n",
       "      <td>0.0</td>\n",
       "      <td>0.5</td>\n",
       "      <td>0.00</td>\n",
       "      <td>5.54</td>\n",
       "      <td>0.3</td>\n",
       "      <td>58.34</td>\n",
       "      <td>70:61</td>\n",
       "      <td>27:64</td>\n",
       "      <td>NaN</td>\n",
       "    </tr>\n",
       "    <tr>\n",
       "      <th>1</th>\n",
       "      <td>1</td>\n",
       "      <td>2015-07-29 08:47:12</td>\n",
       "      <td>2015-07-29 08:53:28</td>\n",
       "      <td>1</td>\n",
       "      <td>0.70</td>\n",
       "      <td>-73.969505</td>\n",
       "      <td>40.763618</td>\n",
       "      <td>1</td>\n",
       "      <td>N</td>\n",
       "      <td>-73.962135</td>\n",
       "      <td>...</td>\n",
       "      <td>5.5</td>\n",
       "      <td>0.0</td>\n",
       "      <td>0.5</td>\n",
       "      <td>1.25</td>\n",
       "      <td>0.00</td>\n",
       "      <td>0.3</td>\n",
       "      <td>7.55</td>\n",
       "      <td>26:63</td>\n",
       "      <td>27:61</td>\n",
       "      <td>NaN</td>\n",
       "    </tr>\n",
       "    <tr>\n",
       "      <th>2</th>\n",
       "      <td>2</td>\n",
       "      <td>2015-07-20 14:19:43</td>\n",
       "      <td>2015-07-20 14:40:02</td>\n",
       "      <td>5</td>\n",
       "      <td>2.90</td>\n",
       "      <td>-73.964363</td>\n",
       "      <td>40.767414</td>\n",
       "      <td>1</td>\n",
       "      <td>N</td>\n",
       "      <td>-73.989037</td>\n",
       "      <td>...</td>\n",
       "      <td>14.5</td>\n",
       "      <td>0.0</td>\n",
       "      <td>0.5</td>\n",
       "      <td>3.82</td>\n",
       "      <td>0.00</td>\n",
       "      <td>0.3</td>\n",
       "      <td>19.12</td>\n",
       "      <td>27:62</td>\n",
       "      <td>27:71</td>\n",
       "      <td>NaN</td>\n",
       "    </tr>\n",
       "    <tr>\n",
       "      <th>3</th>\n",
       "      <td>1</td>\n",
       "      <td>2015-07-15 23:39:36</td>\n",
       "      <td>2015-07-15 23:46:13</td>\n",
       "      <td>1</td>\n",
       "      <td>1.20</td>\n",
       "      <td>-73.989815</td>\n",
       "      <td>40.733536</td>\n",
       "      <td>1</td>\n",
       "      <td>N</td>\n",
       "      <td>-74.007965</td>\n",
       "      <td>...</td>\n",
       "      <td>6.5</td>\n",
       "      <td>0.5</td>\n",
       "      <td>0.5</td>\n",
       "      <td>0.00</td>\n",
       "      <td>0.00</td>\n",
       "      <td>0.3</td>\n",
       "      <td>7.80</td>\n",
       "      <td>27:70</td>\n",
       "      <td>23:72</td>\n",
       "      <td>NaN</td>\n",
       "    </tr>\n",
       "    <tr>\n",
       "      <th>4</th>\n",
       "      <td>2</td>\n",
       "      <td>2015-07-04 17:15:32</td>\n",
       "      <td>2015-07-04 17:17:53</td>\n",
       "      <td>3</td>\n",
       "      <td>0.56</td>\n",
       "      <td>-73.983704</td>\n",
       "      <td>40.735992</td>\n",
       "      <td>1</td>\n",
       "      <td>N</td>\n",
       "      <td>-73.992203</td>\n",
       "      <td>...</td>\n",
       "      <td>4.0</td>\n",
       "      <td>0.0</td>\n",
       "      <td>0.5</td>\n",
       "      <td>0.96</td>\n",
       "      <td>0.00</td>\n",
       "      <td>0.3</td>\n",
       "      <td>5.76</td>\n",
       "      <td>27:69</td>\n",
       "      <td>26:70</td>\n",
       "      <td>NaN</td>\n",
       "    </tr>\n",
       "  </tbody>\n",
       "</table>\n",
       "<p>5 rows × 22 columns</p>\n",
       "</div>"
      ],
      "text/plain": [
       "   VendorID tpep_pickup_datetime tpep_dropoff_datetime  passenger_count  \\\n",
       "0         1  2015-07-13 14:29:57   2015-07-13 15:19:06                2   \n",
       "1         1  2015-07-29 08:47:12   2015-07-29 08:53:28                1   \n",
       "2         2  2015-07-20 14:19:43   2015-07-20 14:40:02                5   \n",
       "3         1  2015-07-15 23:39:36   2015-07-15 23:46:13                1   \n",
       "4         2  2015-07-04 17:15:32   2015-07-04 17:17:53                3   \n",
       "\n",
       "   trip_distance  pickup_longitude  pickup_latitude  RatecodeID  \\\n",
       "0          17.80        -73.787956        40.641628           2   \n",
       "1           0.70        -73.969505        40.763618           1   \n",
       "2           2.90        -73.964363        40.767414           1   \n",
       "3           1.20        -73.989815        40.733536           1   \n",
       "4           0.56        -73.983704        40.735992           1   \n",
       "\n",
       "  store_and_fwd_flag  dropoff_longitude  ...  fare_amount  extra  mta_tax  \\\n",
       "0                  N         -73.969269  ...         52.0    0.0      0.5   \n",
       "1                  N         -73.962135  ...          5.5    0.0      0.5   \n",
       "2                  N         -73.989037  ...         14.5    0.0      0.5   \n",
       "3                  N         -74.007965  ...          6.5    0.5      0.5   \n",
       "4                  N         -73.992203  ...          4.0    0.0      0.5   \n",
       "\n",
       "   tip_amount  tolls_amount  improvement_surcharge  total_amount  PickupCell  \\\n",
       "0        0.00          5.54                    0.3         58.34       70:61   \n",
       "1        1.25          0.00                    0.3          7.55       26:63   \n",
       "2        3.82          0.00                    0.3         19.12       27:62   \n",
       "3        0.00          0.00                    0.3          7.80       27:70   \n",
       "4        0.96          0.00                    0.3          5.76       27:69   \n",
       "\n",
       "   DropoffCell Unnamed: 21  \n",
       "0        27:64         NaN  \n",
       "1        27:61         NaN  \n",
       "2        27:71         NaN  \n",
       "3        23:72         NaN  \n",
       "4        26:70         NaN  \n",
       "\n",
       "[5 rows x 22 columns]"
      ]
     },
     "execution_count": 38,
     "metadata": {},
     "output_type": "execute_result"
    }
   ],
   "source": [
    "df.head()"
   ]
  },
  {
   "cell_type": "code",
   "execution_count": 39,
   "metadata": {},
   "outputs": [],
   "source": [
    "# Convert string type to datetime\n",
    "df['tpep_pickup_datetime'] = pd.to_datetime(df['tpep_pickup_datetime'])\n",
    "df['tpep_dropoff_datetime'] = pd.to_datetime(df['tpep_dropoff_datetime'])"
   ]
  },
  {
   "cell_type": "code",
   "execution_count": 40,
   "metadata": {},
   "outputs": [],
   "source": [
    "# Total earninigs = tip_amount + total_amount\n",
    "df['total_earnings'] = df[\"tip_amount\"] + df['total_amount']"
   ]
  },
  {
   "cell_type": "code",
   "execution_count": 41,
   "metadata": {},
   "outputs": [],
   "source": [
    "# Calculate trip_duration in seconds\n",
    "df[\"trip_duration\"] = (df['tpep_dropoff_datetime'] - df['tpep_pickup_datetime']).dt.total_seconds()"
   ]
  },
  {
   "cell_type": "code",
   "execution_count": 42,
   "metadata": {},
   "outputs": [],
   "source": [
    "# Extract day of week and minute of day\n",
    "df[\"day_of_week\"] = df[\"tpep_pickup_datetime\"].dt.weekday.astype(str)\n",
    "df[\"minute_of_day\"] = df[\"tpep_pickup_datetime\"].dt.time"
   ]
  },
  {
   "cell_type": "code",
   "execution_count": 50,
   "metadata": {},
   "outputs": [],
   "source": [
    "# Round down time to nearest minute\n",
    "df['minute_of_day'] =  [i.replace(second=0) for i in df['minute_of_day']]"
   ]
  },
  {
   "cell_type": "code",
   "execution_count": 51,
   "metadata": {},
   "outputs": [],
   "source": [
    "# Compute frequency and TER\n",
    "df_ter = df.groupby([\"PickupCell\", \"day_of_week\", \"minute_of_day\"]) \\\n",
    "            .size() \\\n",
    "            .to_frame(name='frequency') \\\n",
    "            .join(df.groupby([\"PickupCell\", \"day_of_week\", \"minute_of_day\"]) \\\n",
    "                    .agg({\"total_earnings\":\"mean\", \"trip_duration\":\"mean\"}) \\\n",
    "                    .rename(columns={\"trip_duration\":\"avg(td)\", \"total_earnings\":\"avg(te)\"}) \\\n",
    "            ).reset_index()"
   ]
  },
  {
   "cell_type": "code",
   "execution_count": 52,
   "metadata": {},
   "outputs": [],
   "source": [
    "df_ter['avg(ter)'] = df_ter['avg(te)']/df_ter['avg(td)']"
   ]
  },
  {
   "cell_type": "code",
   "execution_count": 53,
   "metadata": {},
   "outputs": [],
   "source": [
    "df_ter.to_csv(\"../csv/df_score_table.csv\", index=False)"
   ]
  },
  {
   "cell_type": "code",
   "execution_count": 55,
   "metadata": {},
   "outputs": [
    {
     "data": {
      "text/plain": [
       "'6'"
      ]
     },
     "execution_count": 55,
     "metadata": {},
     "output_type": "execute_result"
    }
   ],
   "source": [
    "df_ter['day_of_week'][0]"
   ]
  },
  {
   "cell_type": "code",
   "execution_count": null,
   "metadata": {},
   "outputs": [],
   "source": []
  }
 ],
 "metadata": {
  "kernelspec": {
   "display_name": "Python 3",
   "language": "python",
   "name": "python3"
  },
  "language_info": {
   "codemirror_mode": {
    "name": "ipython",
    "version": 3
   },
   "file_extension": ".py",
   "mimetype": "text/x-python",
   "name": "python",
   "nbconvert_exporter": "python",
   "pygments_lexer": "ipython3",
   "version": "3.7.3"
  }
 },
 "nbformat": 4,
 "nbformat_minor": 2
}
