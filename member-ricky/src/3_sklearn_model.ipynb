{
 "cells": [
  {
   "cell_type": "code",
   "execution_count": 7,
   "metadata": {
    "ExecuteTime": {
     "end_time": "2019-10-11T00:56:58.644459Z",
     "start_time": "2019-10-11T00:56:56.925924Z"
    },
    "scrolled": true
   },
   "outputs": [
    {
     "name": "stdout",
     "output_type": "stream",
     "text": [
      "Once deleted, variables cannot be recovered. Proceed (y/[n])? y\n"
     ]
    },
    {
     "name": "stderr",
     "output_type": "stream",
     "text": [
      "ERROR:root:Invalid alias: The name clear can't be aliased because it is another magic command.\n",
      "ERROR:root:Invalid alias: The name more can't be aliased because it is another magic command.\n",
      "ERROR:root:Invalid alias: The name less can't be aliased because it is another magic command.\n",
      "ERROR:root:Invalid alias: The name man can't be aliased because it is another magic command.\n"
     ]
    }
   ],
   "source": [
    "%reset"
   ]
  },
  {
   "cell_type": "code",
   "execution_count": 2,
   "metadata": {
    "ExecuteTime": {
     "end_time": "2019-10-11T00:43:48.266599Z",
     "start_time": "2019-10-11T00:43:47.739602Z"
    }
   },
   "outputs": [],
   "source": [
    "import pandas as pd\n",
    "import pickle"
   ]
  },
  {
   "cell_type": "code",
   "execution_count": 3,
   "metadata": {
    "ExecuteTime": {
     "end_time": "2019-10-11T00:43:59.304238Z",
     "start_time": "2019-10-11T00:43:48.853644Z"
    }
   },
   "outputs": [],
   "source": [
    "# import csv, specific some columns as strings\n",
    "df = pd.read_csv(\"../../data/preprocessed_data/100k.csv\")\n",
    "#                  dtype={'Pickup_day':object,\n",
    "#                         'day_of_week': object,\n",
    "#                        'Pickup_hour':object,\n",
    "#                        'Pickup_minute':object,\n",
    "#                        'Pickup_week':object})"
   ]
  },
  {
   "cell_type": "code",
   "execution_count": 4,
   "metadata": {
    "ExecuteTime": {
     "end_time": "2019-10-11T00:44:25.834972Z",
     "start_time": "2019-10-11T00:44:24.511437Z"
    }
   },
   "outputs": [],
   "source": [
    "df2 = df.copy()[['Season', 'Pickup_month', 'Pickup_week', 'Pickup_day', 'Pickup_wday',\n",
    "       'Weekend', 'Pickup_hour', 'Time', 'Pickup_minute', 'Borough', 'Zone',\n",
    "       'Pickup_cell', 'Number_trips']]"
   ]
  },
  {
   "cell_type": "code",
   "execution_count": null,
   "metadata": {
    "ExecuteTime": {
     "start_time": "2019-10-11T00:43:30.488Z"
    }
   },
   "outputs": [],
   "source": [
    "# df2['Pickup_minute'] = df2['Pickup_minute'].apply(lambda x: x//5 * 5)"
   ]
  },
  {
   "cell_type": "code",
   "execution_count": 5,
   "metadata": {
    "ExecuteTime": {
     "end_time": "2019-10-11T00:44:34.655395Z",
     "start_time": "2019-10-11T00:44:25.894146Z"
    }
   },
   "outputs": [],
   "source": [
    "df2 = df2.groupby(['Season', 'Pickup_month', 'Pickup_week', 'Pickup_day', 'Pickup_wday',\n",
    "       'Weekend', 'Pickup_hour', 'Time', 'Pickup_minute', 'Borough', 'Zone',\n",
    "       'Pickup_cell']).sum().reset_index()"
   ]
  },
  {
   "cell_type": "code",
   "execution_count": 6,
   "metadata": {
    "ExecuteTime": {
     "end_time": "2019-10-11T00:44:36.969937Z",
     "start_time": "2019-10-11T00:44:34.657124Z"
    }
   },
   "outputs": [],
   "source": [
    "X = df2.iloc[:, 0:12]\n",
    "y = df2.loc[:,\"Number_trips\"].astype('float')"
   ]
  },
  {
   "cell_type": "markdown",
   "metadata": {},
   "source": [
    "### Sklearn GLM"
   ]
  },
  {
   "cell_type": "markdown",
   "metadata": {},
   "source": [
    "### One hot encoding\n",
    "One hot encode all instances with unique attribute values into a sparse matrix"
   ]
  },
  {
   "cell_type": "code",
   "execution_count": null,
   "metadata": {
    "ExecuteTime": {
     "start_time": "2019-10-11T00:43:30.496Z"
    }
   },
   "outputs": [],
   "source": [
    "from sklearn.preprocessing import OneHotEncoder"
   ]
  },
  {
   "cell_type": "code",
   "execution_count": null,
   "metadata": {
    "ExecuteTime": {
     "start_time": "2019-10-11T00:43:30.498Z"
    }
   },
   "outputs": [],
   "source": [
    "ohe = OneHotEncoder()"
   ]
  },
  {
   "cell_type": "code",
   "execution_count": null,
   "metadata": {
    "ExecuteTime": {
     "start_time": "2019-10-11T00:43:30.499Z"
    }
   },
   "outputs": [],
   "source": [
    "# Produce a sparse matrix\n",
    "train = ohe.fit_transform(X)"
   ]
  },
  {
   "cell_type": "code",
   "execution_count": null,
   "metadata": {
    "ExecuteTime": {
     "start_time": "2019-10-11T00:43:30.500Z"
    }
   },
   "outputs": [],
   "source": [
    "with open('../players/model/ohe.pkl', 'wb') as handle:\n",
    "    pickle.dump(ohe, handle, protocol=pickle.HIGHEST_PROTOCOL)"
   ]
  },
  {
   "cell_type": "markdown",
   "metadata": {},
   "source": [
    "### Multinomial Naive Bayes"
   ]
  },
  {
   "cell_type": "code",
   "execution_count": null,
   "metadata": {
    "ExecuteTime": {
     "start_time": "2019-10-11T00:43:30.502Z"
    }
   },
   "outputs": [],
   "source": [
    "from sklearn.naive_bayes import MultinomialNB"
   ]
  },
  {
   "cell_type": "code",
   "execution_count": null,
   "metadata": {
    "ExecuteTime": {
     "start_time": "2019-10-11T00:43:30.504Z"
    },
    "scrolled": true
   },
   "outputs": [],
   "source": [
    "mnb = MultinomialNB()\n",
    "mnb.fit(train, y)"
   ]
  },
  {
   "cell_type": "code",
   "execution_count": null,
   "metadata": {},
   "outputs": [],
   "source": []
  },
  {
   "cell_type": "code",
   "execution_count": 66,
   "metadata": {},
   "outputs": [],
   "source": [
    "with open('../players/model/mnb.pkl', 'wb') as handle:\n",
    "    pickle.dump(mnb, handle, protocol=pickle.HIGHEST_PROTOCOL)"
   ]
  },
  {
   "cell_type": "code",
   "execution_count": null,
   "metadata": {},
   "outputs": [],
   "source": []
  }
 ],
 "metadata": {
  "kernelspec": {
   "display_name": "Python 3",
   "language": "python",
   "name": "python3"
  },
  "language_info": {
   "codemirror_mode": {
    "name": "ipython",
    "version": 3
   },
   "file_extension": ".py",
   "mimetype": "text/x-python",
   "name": "python",
   "nbconvert_exporter": "python",
   "pygments_lexer": "ipython3",
   "version": "3.7.3"
  }
 },
 "nbformat": 4,
 "nbformat_minor": 2
}
