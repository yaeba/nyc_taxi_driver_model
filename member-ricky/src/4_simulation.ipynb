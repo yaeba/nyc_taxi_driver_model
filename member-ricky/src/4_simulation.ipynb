{
 "cells": [
  {
   "cell_type": "code",
   "execution_count": 132,
   "metadata": {
    "ExecuteTime": {
     "end_time": "2019-10-08T09:19:19.667907Z",
     "start_time": "2019-10-08T09:19:19.658046Z"
    }
   },
   "outputs": [],
   "source": [
    "import pandas as pd\n",
    "from datetime import datetime \n",
    "from datetime import timedelta\n",
    "import numpy as np\n",
    "import pickle"
   ]
  },
  {
   "cell_type": "code",
   "execution_count": 141,
   "metadata": {
    "ExecuteTime": {
     "end_time": "2019-10-08T09:22:36.104034Z",
     "start_time": "2019-10-08T09:22:36.093506Z"
    }
   },
   "outputs": [],
   "source": [
    "# Simulation\n",
    "current_cell = \"22:113\"\n",
    "current_datetime = pd.to_datetime(\"2015-06-01 14:00:00\")"
   ]
  },
  {
   "cell_type": "code",
   "execution_count": 144,
   "metadata": {
    "scrolled": true
   },
   "outputs": [
    {
     "data": {
      "text/plain": [
       "0"
      ]
     },
     "execution_count": 144,
     "metadata": {},
     "output_type": "execute_result"
    }
   ],
   "source": [
    "current_datetime.weekday()"
   ]
  },
  {
   "cell_type": "code",
   "execution_count": 157,
   "metadata": {},
   "outputs": [],
   "source": [
    "time_tuple = extract_time(current_datetime)"
   ]
  },
  {
   "cell_type": "code",
   "execution_count": 177,
   "metadata": {},
   "outputs": [],
   "source": [
    "manhattan_zones = {\"27:80\":\"TriBeCa/Civic Center\"}"
   ]
  },
  {
   "cell_type": "code",
   "execution_count": 178,
   "metadata": {},
   "outputs": [],
   "source": [
    "poss = [(time_tuple + (zone, cell,)) for cell, zone in manhattan_zones.items()]"
   ]
  },
  {
   "cell_type": "code",
   "execution_count": 184,
   "metadata": {},
   "outputs": [
    {
     "data": {
      "text/plain": [
       "[('Summer',\n",
       "  'Jun',\n",
       "  23,\n",
       "  1,\n",
       "  'Mon',\n",
       "  False,\n",
       "  14,\n",
       "  'Daytime',\n",
       "  0,\n",
       "  'TriBeCa/Civic Center',\n",
       "  '27:80')]"
      ]
     },
     "execution_count": 184,
     "metadata": {},
     "output_type": "execute_result"
    }
   ],
   "source": [
    "poss"
   ]
  },
  {
   "cell_type": "code",
   "execution_count": 169,
   "metadata": {},
   "outputs": [],
   "source": [
    "with open('../players/model/mnb.pkl', 'rb') as handle:\n",
    "    mod = pickle.load(handle)\n",
    "with open('../players/model/ohe.pkl', 'rb') as handle:\n",
    "    ohe = pickle.load(handle)"
   ]
  },
  {
   "cell_type": "code",
   "execution_count": 171,
   "metadata": {},
   "outputs": [
    {
     "name": "stdout",
     "output_type": "stream",
     "text": [
      "OneHotEncoder(categorical_features=None, categories=None, drop=None,\n",
      "              dtype=<class 'numpy.float64'>, handle_unknown='ignore',\n",
      "              n_values=None, sparse=True)\n"
     ]
    }
   ],
   "source": [
    "print(ohe)"
   ]
  },
  {
   "cell_type": "code",
   "execution_count": 181,
   "metadata": {},
   "outputs": [],
   "source": [
    "pred = ohe.transform(poss)"
   ]
  },
  {
   "cell_type": "code",
   "execution_count": 183,
   "metadata": {},
   "outputs": [
    {
     "data": {
      "text/plain": [
       "<1x564 sparse matrix of type '<class 'numpy.float64'>'\n",
       "\twith 10 stored elements in Compressed Sparse Row format>"
      ]
     },
     "execution_count": 183,
     "metadata": {},
     "output_type": "execute_result"
    }
   ],
   "source": [
    "pred"
   ]
  },
  {
   "cell_type": "code",
   "execution_count": 182,
   "metadata": {
    "scrolled": true
   },
   "outputs": [
    {
     "data": {
      "text/plain": [
       "array([1.])"
      ]
     },
     "execution_count": 182,
     "metadata": {},
     "output_type": "execute_result"
    }
   ],
   "source": [
    "mod.predict(pred)"
   ]
  },
  {
   "cell_type": "code",
   "execution_count": 156,
   "metadata": {},
   "outputs": [],
   "source": [
    "# def extract_time(dt):\n",
    "\n",
    "#     # Extract the following predictors\n",
    "#     # 'Season', 'Pickup_month', 'Pickup_week', 'Pickup_day', 'Pickup_wday',\n",
    "#     # 'Weekend', 'Pickup_hour', 'Time', 'Pickup_minute', 'Zone',\n",
    "#     # 'Pickup_cell'\n",
    "\n",
    "#     seasons = {1: \"Spring\", 2: \"Spring\", 3: \"Spring\",\n",
    "#                4: \"Summer\", 5: \"Summer\", 6: \"Summer\",\n",
    "#                7: \"Autumn\", 8: \"Autumn\", 9: \"Autumn\",\n",
    "#                10: \"Winter\", 11: \"Winter\", 12: \"Winter\"}\n",
    "\n",
    "#     season = seasons.get(dt.month)\n",
    "#     month = dt.strftime(\"%b\")\n",
    "#     week = dt.week\n",
    "#     day = dt.day\n",
    "#     weekday = dt.strftime(\"%a\")\n",
    "#     weekend = dt.weekday() >= 5\n",
    "#     hour = dt.hour\n",
    "#     time = \"Daytime\" if 6 <= dt.hour <= 18 else \"Nighttime\"\n",
    "#     minute = dt.minute\n",
    "\n",
    "#     return (season, month, week, day, weekday, weekend, hour, time, minute)\n",
    "\n",
    "def extract_time(dt):\n",
    "\n",
    "    # Extract the following predictors\n",
    "    # 'Season', 'Pickup_month', 'Pickup_week', 'Pickup_day', 'Pickup_wday',\n",
    "    # 'Weekend', 'Pickup_hour', 'Time', 'Pickup_minute', 'Zone',\n",
    "    # 'Pickup_cell'\n",
    "\n",
    "    seasons = {1: \"Spring\", 2: \"Spring\", 3: \"Spring\",\n",
    "               4: \"Summer\", 5: \"Summer\", 6: \"Summer\",\n",
    "               7: \"Autumn\", 8: \"Autumn\", 9: \"Autumn\",\n",
    "               10: \"Winter\", 11: \"Winter\", 12: \"Winter\"}\n",
    "\n",
    "    season = seasons.get(dt.month)\n",
    "    month = dt.strftime(\"%b\")\n",
    "    week = int(dt.strftime(\"%V\"))\n",
    "    day = dt.day\n",
    "    weekday = dt.strftime(\"%a\")\n",
    "    weekend = dt.weekday() >= 5\n",
    "    hour = dt.hour\n",
    "    time = \"Daytime\" if 6 <= dt.hour <= 18 else \"Nighttime\"\n",
    "    minute = dt.minute\n",
    "\n",
    "    return (season, month, week, day, weekday, weekend, hour, time, minute)"
   ]
  },
  {
   "cell_type": "code",
   "execution_count": null,
   "metadata": {},
   "outputs": [],
   "source": []
  },
  {
   "cell_type": "markdown",
   "metadata": {},
   "source": [
    "### Load graph and compute cost for all cells"
   ]
  },
  {
   "cell_type": "code",
   "execution_count": 12,
   "metadata": {
    "ExecuteTime": {
     "end_time": "2019-10-08T09:19:09.188406Z",
     "start_time": "2019-10-08T09:19:09.179730Z"
    }
   },
   "outputs": [],
   "source": [
    "import bfs"
   ]
  },
  {
   "cell_type": "code",
   "execution_count": 13,
   "metadata": {
    "ExecuteTime": {
     "end_time": "2019-10-08T09:19:09.533641Z",
     "start_time": "2019-10-08T09:19:09.436695Z"
    },
    "scrolled": true
   },
   "outputs": [],
   "source": [
    "graph = bfs.load_graph(\"../players/data/graph.pkl\")"
   ]
  },
  {
   "cell_type": "code",
   "execution_count": 14,
   "metadata": {
    "ExecuteTime": {
     "end_time": "2019-10-08T09:19:09.718102Z",
     "start_time": "2019-10-08T09:19:09.676774Z"
    }
   },
   "outputs": [],
   "source": [
    "costs = bfs.bfs(graph, current_cell)\n",
    "\n",
    "# Just a subset of the dictionary\n",
    "sp_dict = dict(list(costs.items()))"
   ]
  },
  {
   "cell_type": "markdown",
   "metadata": {},
   "source": [
    "### Preprocess input"
   ]
  },
  {
   "cell_type": "code",
   "execution_count": 15,
   "metadata": {
    "ExecuteTime": {
     "end_time": "2019-10-08T09:28:33.213728Z",
     "start_time": "2019-10-08T09:28:33.184677Z"
    }
   },
   "outputs": [],
   "source": [
    "cell_to_location = pd.read_csv(\"../players/data/cell_to_location.csv\")\n",
    "\n",
    "seasons = {1:\"Spring\",2:\"Spring\",3:\"Spring\",\n",
    "               4:\"Summer\", 5:\"Summer\", 6:\"Summer\",\n",
    "               7:\"Autumn\", 8:\"Autumn\", 9:\"Autumn\",\n",
    "               10:\"Winter\", 11:\"Winter\", 12:\"Winter\"}\n",
    "\n",
    "zone_dict = cell_to_location.set_index(\"Cell\").to_dict()[\"Zone\"]\n",
    "borough_dict = cell_to_location.set_index(\"Cell\").to_dict()[\"Borough\"]"
   ]
  },
  {
   "cell_type": "code",
   "execution_count": 16,
   "metadata": {
    "ExecuteTime": {
     "end_time": "2019-10-08T09:48:50.332826Z",
     "start_time": "2019-10-08T09:48:50.317505Z"
    }
   },
   "outputs": [],
   "source": [
    "def preprocess_cell(cid, dt):\n",
    "\n",
    "    return[dt.strftime(\"%b\"), str(dt.day), str(dt.hour), str(dt.minute), seasons.get(dt.month), \n",
    "           str(dt.week), dt.strftime(\"%a\"),\n",
    "            False if dt.weekday() < 5 else True,\n",
    "           \"Daytime\" if 6 <= dt.hour <= 18 else \"Nighttime\",\n",
    "           borough_dict[cid],\n",
    "           zone_dict[cid],\n",
    "           cid]"
   ]
  },
  {
   "cell_type": "code",
   "execution_count": 9,
   "metadata": {
    "ExecuteTime": {
     "end_time": "2019-10-08T09:48:55.291137Z",
     "start_time": "2019-10-08T09:48:55.207509Z"
    }
   },
   "outputs": [
    {
     "ename": "KeyError",
     "evalue": "'23:110'",
     "output_type": "error",
     "traceback": [
      "\u001b[0;31m---------------------------------------------------------------------------\u001b[0m",
      "\u001b[0;31mKeyError\u001b[0m                                  Traceback (most recent call last)",
      "\u001b[0;32m<ipython-input-9-d7db2c1ba220>\u001b[0m in \u001b[0;36m<module>\u001b[0;34m\u001b[0m\n\u001b[1;32m      2\u001b[0m \u001b[0;32mfor\u001b[0m \u001b[0mk\u001b[0m\u001b[0;34m,\u001b[0m \u001b[0mv\u001b[0m \u001b[0;32min\u001b[0m \u001b[0msp_dict\u001b[0m\u001b[0;34m.\u001b[0m\u001b[0mitems\u001b[0m\u001b[0;34m(\u001b[0m\u001b[0;34m)\u001b[0m\u001b[0;34m:\u001b[0m\u001b[0;34m\u001b[0m\u001b[0;34m\u001b[0m\u001b[0m\n\u001b[1;32m      3\u001b[0m     \u001b[0marrival_datetime\u001b[0m \u001b[0;34m=\u001b[0m \u001b[0;34m(\u001b[0m\u001b[0mcurrent_datetime\u001b[0m \u001b[0;34m+\u001b[0m \u001b[0mtimedelta\u001b[0m\u001b[0;34m(\u001b[0m\u001b[0mminutes\u001b[0m\u001b[0;34m=\u001b[0m\u001b[0mv\u001b[0m\u001b[0;34m)\u001b[0m\u001b[0;34m)\u001b[0m\u001b[0;34m.\u001b[0m\u001b[0mreplace\u001b[0m\u001b[0;34m(\u001b[0m\u001b[0msecond\u001b[0m\u001b[0;34m=\u001b[0m\u001b[0;36m0\u001b[0m\u001b[0;34m)\u001b[0m\u001b[0;34m\u001b[0m\u001b[0;34m\u001b[0m\u001b[0m\n\u001b[0;32m----> 4\u001b[0;31m     \u001b[0mpred2d\u001b[0m\u001b[0;34m.\u001b[0m\u001b[0mappend\u001b[0m\u001b[0;34m(\u001b[0m\u001b[0mpreprocess_cell\u001b[0m\u001b[0;34m(\u001b[0m\u001b[0mk\u001b[0m\u001b[0;34m,\u001b[0m \u001b[0mcurrent_datetime\u001b[0m\u001b[0;34m)\u001b[0m\u001b[0;34m)\u001b[0m\u001b[0;34m\u001b[0m\u001b[0;34m\u001b[0m\u001b[0m\n\u001b[0m",
      "\u001b[0;32m<ipython-input-8-2b48615c95bd>\u001b[0m in \u001b[0;36mpreprocess_cell\u001b[0;34m(cid, dt)\u001b[0m\n\u001b[1;32m      5\u001b[0m             \u001b[0;32mFalse\u001b[0m \u001b[0;32mif\u001b[0m \u001b[0mdt\u001b[0m\u001b[0;34m.\u001b[0m\u001b[0mweekday\u001b[0m\u001b[0;34m(\u001b[0m\u001b[0;34m)\u001b[0m \u001b[0;34m<\u001b[0m \u001b[0;36m5\u001b[0m \u001b[0;32melse\u001b[0m \u001b[0;32mTrue\u001b[0m\u001b[0;34m,\u001b[0m\u001b[0;34m\u001b[0m\u001b[0;34m\u001b[0m\u001b[0m\n\u001b[1;32m      6\u001b[0m            \u001b[0;34m\"Daytime\"\u001b[0m \u001b[0;32mif\u001b[0m \u001b[0;36m6\u001b[0m \u001b[0;34m<=\u001b[0m \u001b[0mdt\u001b[0m\u001b[0;34m.\u001b[0m\u001b[0mhour\u001b[0m \u001b[0;34m<=\u001b[0m \u001b[0;36m18\u001b[0m \u001b[0;32melse\u001b[0m \u001b[0;34m\"Nighttime\"\u001b[0m\u001b[0;34m,\u001b[0m\u001b[0;34m\u001b[0m\u001b[0;34m\u001b[0m\u001b[0m\n\u001b[0;32m----> 7\u001b[0;31m            \u001b[0mborough_dict\u001b[0m\u001b[0;34m[\u001b[0m\u001b[0mcid\u001b[0m\u001b[0;34m]\u001b[0m\u001b[0;34m,\u001b[0m\u001b[0;34m\u001b[0m\u001b[0;34m\u001b[0m\u001b[0m\n\u001b[0m\u001b[1;32m      8\u001b[0m            \u001b[0mzone_dict\u001b[0m\u001b[0;34m[\u001b[0m\u001b[0mcid\u001b[0m\u001b[0;34m]\u001b[0m\u001b[0;34m,\u001b[0m\u001b[0;34m\u001b[0m\u001b[0;34m\u001b[0m\u001b[0m\n\u001b[1;32m      9\u001b[0m            cid]\n",
      "\u001b[0;31mKeyError\u001b[0m: '23:110'"
     ]
    }
   ],
   "source": [
    "pred2d = []\n",
    "for k, v in sp_dict.items():\n",
    "    arrival_datetime = (current_datetime + timedelta(minutes=v)).replace(second=0)\n",
    "    pred2d.append(preprocess_cell(k, current_datetime))"
   ]
  },
  {
   "cell_type": "markdown",
   "metadata": {
    "ExecuteTime": {
     "end_time": "2019-10-08T05:50:36.166937Z",
     "start_time": "2019-10-08T05:50:36.162845Z"
    }
   },
   "source": [
    "### Load Glm\n",
    "Frequency ~ PickupCell,day_of_week,minute_of_day"
   ]
  },
  {
   "cell_type": "code",
   "execution_count": 11,
   "metadata": {
    "ExecuteTime": {
     "end_time": "2019-10-08T09:40:21.405840Z",
     "start_time": "2019-10-08T09:40:21.398663Z"
    }
   },
   "outputs": [],
   "source": [
    "import pickle"
   ]
  },
  {
   "cell_type": "code",
   "execution_count": 12,
   "metadata": {
    "ExecuteTime": {
     "end_time": "2019-10-08T09:40:22.328677Z",
     "start_time": "2019-10-08T09:40:21.876009Z"
    }
   },
   "outputs": [],
   "source": [
    "# Poisson Glm\n",
    "with open('../players/model/.pkl', 'rb') as handle:\n",
    "    pois = pickle.load(handle)"
   ]
  },
  {
   "cell_type": "code",
   "execution_count": 13,
   "metadata": {
    "ExecuteTime": {
     "end_time": "2019-10-08T09:40:22.554547Z",
     "start_time": "2019-10-08T09:40:22.548350Z"
    }
   },
   "outputs": [],
   "source": [
    "from datetime import datetime \n",
    "from datetime import timedelta"
   ]
  },
  {
   "cell_type": "code",
   "execution_count": 14,
   "metadata": {
    "ExecuteTime": {
     "end_time": "2019-10-08T09:40:23.183359Z",
     "start_time": "2019-10-08T09:40:23.177020Z"
    }
   },
   "outputs": [],
   "source": [
    "import numpy as np"
   ]
  },
  {
   "cell_type": "code",
   "execution_count": 15,
   "metadata": {
    "ExecuteTime": {
     "end_time": "2019-10-08T09:48:59.954945Z",
     "start_time": "2019-10-08T09:48:59.860992Z"
    }
   },
   "outputs": [
    {
     "ename": "PatsyError",
     "evalue": "predict requires that you use a DataFrame when predicting from a model\nthat was created using the formula api.\n\nThe original error message returned by patsy is:\nError converting data to categorical: observation with value '22:113' does not match any of the expected levels (expected: ['20:40', '20:41', ..., '32:52', '32:53'])\n    Number_trips~Pickup_hour+                         Pickup_minute+Pickup_cell\n                                                                    ^^^^^^^^^^^",
     "output_type": "error",
     "traceback": [
      "\u001b[0;31m---------------------------------------------------------------------------\u001b[0m",
      "\u001b[0;31mKeyError\u001b[0m                                  Traceback (most recent call last)",
      "\u001b[0;32m~/anaconda3/lib/python3.7/site-packages/patsy/categorical.py\u001b[0m in \u001b[0;36mcategorical_to_int\u001b[0;34m(data, levels, NA_action, origin)\u001b[0m\n\u001b[1;32m    345\u001b[0m             \u001b[0;32mtry\u001b[0m\u001b[0;34m:\u001b[0m\u001b[0;34m\u001b[0m\u001b[0;34m\u001b[0m\u001b[0m\n\u001b[0;32m--> 346\u001b[0;31m                 \u001b[0mout\u001b[0m\u001b[0;34m[\u001b[0m\u001b[0mi\u001b[0m\u001b[0;34m]\u001b[0m \u001b[0;34m=\u001b[0m \u001b[0mlevel_to_int\u001b[0m\u001b[0;34m[\u001b[0m\u001b[0mvalue\u001b[0m\u001b[0;34m]\u001b[0m\u001b[0;34m\u001b[0m\u001b[0;34m\u001b[0m\u001b[0m\n\u001b[0m\u001b[1;32m    347\u001b[0m             \u001b[0;32mexcept\u001b[0m \u001b[0mKeyError\u001b[0m\u001b[0;34m:\u001b[0m\u001b[0;34m\u001b[0m\u001b[0;34m\u001b[0m\u001b[0m\n",
      "\u001b[0;31mKeyError\u001b[0m: '22:113'",
      "\nDuring handling of the above exception, another exception occurred:\n",
      "\u001b[0;31mPatsyError\u001b[0m                                Traceback (most recent call last)",
      "\u001b[0;32m~/anaconda3/lib/python3.7/site-packages/statsmodels/base/model.py\u001b[0m in \u001b[0;36mpredict\u001b[0;34m(self, exog, transform, *args, **kwargs)\u001b[0m\n\u001b[1;32m   1013\u001b[0m             \u001b[0;32mtry\u001b[0m\u001b[0;34m:\u001b[0m\u001b[0;34m\u001b[0m\u001b[0;34m\u001b[0m\u001b[0m\n\u001b[0;32m-> 1014\u001b[0;31m                 \u001b[0mexog\u001b[0m \u001b[0;34m=\u001b[0m \u001b[0mdmatrix\u001b[0m\u001b[0;34m(\u001b[0m\u001b[0mdesign_info\u001b[0m\u001b[0;34m,\u001b[0m \u001b[0mexog\u001b[0m\u001b[0;34m,\u001b[0m \u001b[0mreturn_type\u001b[0m\u001b[0;34m=\u001b[0m\u001b[0;34m\"dataframe\"\u001b[0m\u001b[0;34m)\u001b[0m\u001b[0;34m\u001b[0m\u001b[0;34m\u001b[0m\u001b[0m\n\u001b[0m\u001b[1;32m   1015\u001b[0m             \u001b[0;32mexcept\u001b[0m \u001b[0mException\u001b[0m \u001b[0;32mas\u001b[0m \u001b[0mexc\u001b[0m\u001b[0;34m:\u001b[0m\u001b[0;34m\u001b[0m\u001b[0;34m\u001b[0m\u001b[0m\n",
      "\u001b[0;32m~/anaconda3/lib/python3.7/site-packages/patsy/highlevel.py\u001b[0m in \u001b[0;36mdmatrix\u001b[0;34m(formula_like, data, eval_env, NA_action, return_type)\u001b[0m\n\u001b[1;32m    290\u001b[0m     (lhs, rhs) = _do_highlevel_design(formula_like, data, eval_env,\n\u001b[0;32m--> 291\u001b[0;31m                                       NA_action, return_type)\n\u001b[0m\u001b[1;32m    292\u001b[0m     \u001b[0;32mif\u001b[0m \u001b[0mlhs\u001b[0m\u001b[0;34m.\u001b[0m\u001b[0mshape\u001b[0m\u001b[0;34m[\u001b[0m\u001b[0;36m1\u001b[0m\u001b[0;34m]\u001b[0m \u001b[0;34m!=\u001b[0m \u001b[0;36m0\u001b[0m\u001b[0;34m:\u001b[0m\u001b[0;34m\u001b[0m\u001b[0;34m\u001b[0m\u001b[0m\n",
      "\u001b[0;32m~/anaconda3/lib/python3.7/site-packages/patsy/highlevel.py\u001b[0m in \u001b[0;36m_do_highlevel_design\u001b[0;34m(formula_like, data, eval_env, NA_action, return_type)\u001b[0m\n\u001b[1;32m    168\u001b[0m                                      \u001b[0mNA_action\u001b[0m\u001b[0;34m=\u001b[0m\u001b[0mNA_action\u001b[0m\u001b[0;34m,\u001b[0m\u001b[0;34m\u001b[0m\u001b[0;34m\u001b[0m\u001b[0m\n\u001b[0;32m--> 169\u001b[0;31m                                      return_type=return_type)\n\u001b[0m\u001b[1;32m    170\u001b[0m     \u001b[0;32melse\u001b[0m\u001b[0;34m:\u001b[0m\u001b[0;34m\u001b[0m\u001b[0;34m\u001b[0m\u001b[0m\n",
      "\u001b[0;32m~/anaconda3/lib/python3.7/site-packages/patsy/build.py\u001b[0m in \u001b[0;36mbuild_design_matrices\u001b[0;34m(design_infos, data, NA_action, return_type, dtype)\u001b[0m\n\u001b[1;32m    887\u001b[0m             \u001b[0;32mif\u001b[0m \u001b[0mfactor_info\u001b[0m \u001b[0;32mnot\u001b[0m \u001b[0;32min\u001b[0m \u001b[0mfactor_info_to_values\u001b[0m\u001b[0;34m:\u001b[0m\u001b[0;34m\u001b[0m\u001b[0;34m\u001b[0m\u001b[0m\n\u001b[0;32m--> 888\u001b[0;31m                 \u001b[0mvalue\u001b[0m\u001b[0;34m,\u001b[0m \u001b[0mis_NA\u001b[0m \u001b[0;34m=\u001b[0m \u001b[0m_eval_factor\u001b[0m\u001b[0;34m(\u001b[0m\u001b[0mfactor_info\u001b[0m\u001b[0;34m,\u001b[0m \u001b[0mdata\u001b[0m\u001b[0;34m,\u001b[0m \u001b[0mNA_action\u001b[0m\u001b[0;34m)\u001b[0m\u001b[0;34m\u001b[0m\u001b[0;34m\u001b[0m\u001b[0m\n\u001b[0m\u001b[1;32m    889\u001b[0m                 \u001b[0mfactor_info_to_isNAs\u001b[0m\u001b[0;34m[\u001b[0m\u001b[0mfactor_info\u001b[0m\u001b[0;34m]\u001b[0m \u001b[0;34m=\u001b[0m \u001b[0mis_NA\u001b[0m\u001b[0;34m\u001b[0m\u001b[0;34m\u001b[0m\u001b[0m\n",
      "\u001b[0;32m~/anaconda3/lib/python3.7/site-packages/patsy/build.py\u001b[0m in \u001b[0;36m_eval_factor\u001b[0;34m(factor_info, data, NA_action)\u001b[0m\n\u001b[1;32m     84\u001b[0m         result = categorical_to_int(result, factor_info.categories, NA_action,\n\u001b[0;32m---> 85\u001b[0;31m                                     origin=factor_info.factor)\n\u001b[0m\u001b[1;32m     86\u001b[0m         \u001b[0;32massert\u001b[0m \u001b[0mresult\u001b[0m\u001b[0;34m.\u001b[0m\u001b[0mndim\u001b[0m \u001b[0;34m==\u001b[0m \u001b[0;36m1\u001b[0m\u001b[0;34m\u001b[0m\u001b[0;34m\u001b[0m\u001b[0m\n",
      "\u001b[0;32m~/anaconda3/lib/python3.7/site-packages/patsy/categorical.py\u001b[0m in \u001b[0;36mcategorical_to_int\u001b[0;34m(data, levels, NA_action, origin)\u001b[0m\n\u001b[1;32m    361\u001b[0m                                  \u001b[0;34m\"any of the expected levels (expected: %s)\"\u001b[0m\u001b[0;34m\u001b[0m\u001b[0;34m\u001b[0m\u001b[0m\n\u001b[0;32m--> 362\u001b[0;31m                                  % (value, level_str), origin)\n\u001b[0m\u001b[1;32m    363\u001b[0m             \u001b[0;32mexcept\u001b[0m \u001b[0mTypeError\u001b[0m\u001b[0;34m:\u001b[0m\u001b[0;34m\u001b[0m\u001b[0;34m\u001b[0m\u001b[0m\n",
      "\u001b[0;31mPatsyError\u001b[0m: Error converting data to categorical: observation with value '22:113' does not match any of the expected levels (expected: ['20:40', '20:41', ..., '32:52', '32:53'])\n    Number_trips~Pickup_hour+                         Pickup_minute+Pickup_cell\n                                                                    ^^^^^^^^^^^",
      "\nDuring handling of the above exception, another exception occurred:\n",
      "\u001b[0;31mPatsyError\u001b[0m                                Traceback (most recent call last)",
      "\u001b[0;32m<ipython-input-15-6fab9e65e8c4>\u001b[0m in \u001b[0;36m<module>\u001b[0;34m\u001b[0m\n\u001b[1;32m      7\u001b[0m \u001b[0;31m#         pois_dict[k] = 0\u001b[0m\u001b[0;34m\u001b[0m\u001b[0;34m\u001b[0m\u001b[0;34m\u001b[0m\u001b[0m\n\u001b[1;32m      8\u001b[0m \u001b[0;34m\u001b[0m\u001b[0m\n\u001b[0;32m----> 9\u001b[0;31m \u001b[0mpois\u001b[0m\u001b[0;34m.\u001b[0m\u001b[0mpredict\u001b[0m\u001b[0;34m(\u001b[0m\u001b[0mdf_train\u001b[0m\u001b[0;34m)\u001b[0m\u001b[0;34m\u001b[0m\u001b[0;34m\u001b[0m\u001b[0m\n\u001b[0m",
      "\u001b[0;32m~/anaconda3/lib/python3.7/site-packages/statsmodels/base/model.py\u001b[0m in \u001b[0;36mpredict\u001b[0;34m(self, exog, transform, *args, **kwargs)\u001b[0m\n\u001b[1;32m   1019\u001b[0m                        \u001b[0;34m'\\n\\nThe original error message returned by patsy is:\\n'\u001b[0m\u001b[0;34m\u001b[0m\u001b[0;34m\u001b[0m\u001b[0m\n\u001b[1;32m   1020\u001b[0m                        '{0}'.format(str(str(exc))))\n\u001b[0;32m-> 1021\u001b[0;31m                 \u001b[0;32mraise\u001b[0m \u001b[0mexc\u001b[0m\u001b[0;34m.\u001b[0m\u001b[0m__class__\u001b[0m\u001b[0;34m(\u001b[0m\u001b[0mmsg\u001b[0m\u001b[0;34m)\u001b[0m\u001b[0;34m\u001b[0m\u001b[0;34m\u001b[0m\u001b[0m\n\u001b[0m\u001b[1;32m   1022\u001b[0m             \u001b[0;32mif\u001b[0m \u001b[0morig_exog_len\u001b[0m \u001b[0;34m>\u001b[0m \u001b[0mlen\u001b[0m\u001b[0;34m(\u001b[0m\u001b[0mexog\u001b[0m\u001b[0;34m)\u001b[0m \u001b[0;32mand\u001b[0m \u001b[0;32mnot\u001b[0m \u001b[0mis_dict\u001b[0m\u001b[0;34m:\u001b[0m\u001b[0;34m\u001b[0m\u001b[0;34m\u001b[0m\u001b[0m\n\u001b[1;32m   1023\u001b[0m                 \u001b[0;32mimport\u001b[0m \u001b[0mwarnings\u001b[0m\u001b[0;34m\u001b[0m\u001b[0;34m\u001b[0m\u001b[0m\n",
      "\u001b[0;31mPatsyError\u001b[0m: predict requires that you use a DataFrame when predicting from a model\nthat was created using the formula api.\n\nThe original error message returned by patsy is:\nError converting data to categorical: observation with value '22:113' does not match any of the expected levels (expected: ['20:40', '20:41', ..., '32:52', '32:53'])\n    Number_trips~Pickup_hour+                         Pickup_minute+Pickup_cell\n                                                                    ^^^^^^^^^^^"
     ]
    }
   ],
   "source": [
    "# pois_dict = sp_dict.copy()\n",
    "# for i, (k, v) in enumerate(sp_dict.items()):\n",
    "#     arr = df.values[i]\n",
    "#     try:\n",
    "#         pois_dict[k] = pois.predict(arr)\n",
    "#     except ValueError:\n",
    "#         pois_dict[k] = 0\n",
    "\n",
    "pois.predict(df_train)"
   ]
  },
  {
   "cell_type": "code",
   "execution_count": 184,
   "metadata": {
    "ExecuteTime": {
     "end_time": "2019-10-03T09:18:31.059391Z",
     "start_time": "2019-10-03T09:18:31.049446Z"
    }
   },
   "outputs": [],
   "source": [
    "score_dict = sp_dict.copy()\n",
    "for (k1,v1),(k2,v2) in zip(lr_dict.items(), sp_dict.items()):\n",
    "    try:\n",
    "        score_dict[k1] = v1/v2\n",
    "    except ZeroDivisionError:\n",
    "        score_dict[k1] = v1/0.0000001"
   ]
  },
  {
   "cell_type": "code",
   "execution_count": 185,
   "metadata": {
    "ExecuteTime": {
     "end_time": "2019-10-03T09:18:33.033813Z",
     "start_time": "2019-10-03T09:18:33.029887Z"
    }
   },
   "outputs": [],
   "source": [
    "best_cell = max(score_dict, key=score_dict.get)"
   ]
  },
  {
   "cell_type": "code",
   "execution_count": 186,
   "metadata": {
    "ExecuteTime": {
     "end_time": "2019-10-03T09:18:33.462556Z",
     "start_time": "2019-10-03T09:18:33.457026Z"
    },
    "scrolled": true
   },
   "outputs": [
    {
     "name": "stdout",
     "output_type": "stream",
     "text": [
      "1.0052490234375 23 0.043706479279891304\n"
     ]
    }
   ],
   "source": [
    "print(lr_dict[best_cell], sp_dict[best_cell], score_dict[best_cell] )"
   ]
  },
  {
   "cell_type": "code",
   "execution_count": null,
   "metadata": {},
   "outputs": [],
   "source": []
  },
  {
   "cell_type": "markdown",
   "metadata": {},
   "source": [
    "### Load lr\n",
    "Frequency ~ PickupCell,day_of_week,minute_of_day"
   ]
  },
  {
   "cell_type": "code",
   "execution_count": 10,
   "metadata": {
    "ExecuteTime": {
     "end_time": "2019-10-08T05:18:46.424192Z",
     "start_time": "2019-10-08T05:18:46.416609Z"
    }
   },
   "outputs": [],
   "source": [
    "import pickle"
   ]
  },
  {
   "cell_type": "code",
   "execution_count": 176,
   "metadata": {
    "ExecuteTime": {
     "end_time": "2019-10-03T09:16:22.135582Z",
     "start_time": "2019-10-03T09:16:22.130837Z"
    }
   },
   "outputs": [],
   "source": [
    "# Linear Regression\n",
    "with open('../model/lr.pickle', 'rb') as handle:\n",
    "    lr = pickle.load(handle)"
   ]
  },
  {
   "cell_type": "code",
   "execution_count": 177,
   "metadata": {
    "ExecuteTime": {
     "end_time": "2019-10-03T09:16:22.298053Z",
     "start_time": "2019-10-03T09:16:22.293655Z"
    }
   },
   "outputs": [],
   "source": [
    "with open('../model/ohe.pickle', 'rb') as handle:\n",
    "    ohe = pickle.load(handle)"
   ]
  },
  {
   "cell_type": "code",
   "execution_count": 180,
   "metadata": {
    "ExecuteTime": {
     "end_time": "2019-10-03T09:17:38.604197Z",
     "start_time": "2019-10-03T09:17:38.551689Z"
    }
   },
   "outputs": [],
   "source": [
    "### Compute time when arrive at destination cell to get minute of day\n",
    "pred2d = []\n",
    "for k, v in sp_dict.items():\n",
    "    arr = [k, input[1], (input[2] + timedelta(minutes=v)).time().replace(second=0).strftime(\"%H:%M:%S\")]\n",
    "    pred2d.append(arr)\n",
    "pred2d = np.array(pred2d) \n",
    "df = pd.DataFrame(pred2d)"
   ]
  },
  {
   "cell_type": "code",
   "execution_count": 182,
   "metadata": {
    "ExecuteTime": {
     "end_time": "2019-10-03T09:18:03.237166Z",
     "start_time": "2019-10-03T09:18:02.668048Z"
    }
   },
   "outputs": [],
   "source": [
    "### Compute time when arrive at destination cell to get minute of day\n",
    "lr_dict = sp_dict.copy()\n",
    "for i, (k, v) in enumerate(sp_dict.items()):\n",
    "#     arr = np.array([k, input[1], (input[2] + timedelta(minutes=v)).time().replace(second=0).strftime(\"%H:%M:%S\")]).reshape(1,-1)\n",
    "    arr = df.values[i].reshape(1,-1)\n",
    "    try:\n",
    "        pred = ohe.transform(arr).toarray()\n",
    "        lr_dict[k] = lr.predict(pred)[0]\n",
    "    except ValueError:\n",
    "        lr_dict[k] = 0"
   ]
  },
  {
   "cell_type": "code",
   "execution_count": 184,
   "metadata": {
    "ExecuteTime": {
     "end_time": "2019-10-03T09:18:31.059391Z",
     "start_time": "2019-10-03T09:18:31.049446Z"
    }
   },
   "outputs": [],
   "source": [
    "score_dict = sp_dict.copy()\n",
    "for (k1,v1),(k2,v2) in zip(lr_dict.items(), sp_dict.items()):\n",
    "    try:\n",
    "        score_dict[k1] = v1/v2\n",
    "    except ZeroDivisionError:\n",
    "        score_dict[k1] = v1/0.0000001"
   ]
  },
  {
   "cell_type": "code",
   "execution_count": 185,
   "metadata": {
    "ExecuteTime": {
     "end_time": "2019-10-03T09:18:33.033813Z",
     "start_time": "2019-10-03T09:18:33.029887Z"
    }
   },
   "outputs": [],
   "source": [
    "best_cell = max(score_dict, key=score_dict.get)"
   ]
  },
  {
   "cell_type": "code",
   "execution_count": 186,
   "metadata": {
    "ExecuteTime": {
     "end_time": "2019-10-03T09:18:33.462556Z",
     "start_time": "2019-10-03T09:18:33.457026Z"
    },
    "scrolled": true
   },
   "outputs": [
    {
     "name": "stdout",
     "output_type": "stream",
     "text": [
      "1.0052490234375 23 0.043706479279891304\n"
     ]
    }
   ],
   "source": [
    "print(lr_dict[best_cell], sp_dict[best_cell], score_dict[best_cell] )"
   ]
  },
  {
   "cell_type": "code",
   "execution_count": null,
   "metadata": {},
   "outputs": [],
   "source": []
  },
  {
   "cell_type": "code",
   "execution_count": null,
   "metadata": {},
   "outputs": [],
   "source": []
  }
 ],
 "metadata": {
  "kernelspec": {
   "display_name": "Python 3",
   "language": "python",
   "name": "python3"
  },
  "language_info": {
   "codemirror_mode": {
    "name": "ipython",
    "version": 3
   },
   "file_extension": ".py",
   "mimetype": "text/x-python",
   "name": "python",
   "nbconvert_exporter": "python",
   "pygments_lexer": "ipython3",
   "version": "3.7.3"
  }
 },
 "nbformat": 4,
 "nbformat_minor": 2
}
