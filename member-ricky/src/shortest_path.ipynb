{
 "cells": [
  {
   "cell_type": "code",
   "execution_count": 1,
   "metadata": {
    "ExecuteTime": {
     "end_time": "2019-09-21T04:41:27.284240Z",
     "start_time": "2019-09-21T04:41:26.241128Z"
    }
   },
   "outputs": [],
   "source": [
    "import pandas as pd\n",
    "\n",
    "from dijkstar import Graph, find_path\n",
    "\n",
    "import pickle"
   ]
  },
  {
   "cell_type": "code",
   "execution_count": 23,
   "metadata": {
    "ExecuteTime": {
     "end_time": "2019-09-21T05:02:24.164839Z",
     "start_time": "2019-09-21T05:02:24.152871Z"
    }
   },
   "outputs": [],
   "source": [
    "cells = pd.read_csv(\"cells.csv\")"
   ]
  },
  {
   "cell_type": "code",
   "execution_count": 24,
   "metadata": {
    "ExecuteTime": {
     "end_time": "2019-09-21T05:02:24.421082Z",
     "start_time": "2019-09-21T05:02:24.355753Z"
    }
   },
   "outputs": [],
   "source": [
    "cells = cells[\"id\"].str.split(\":\").apply(lambda x: tuple([int(x[0]), int(x[1])])).tolist()"
   ]
  },
  {
   "cell_type": "code",
   "execution_count": 9,
   "metadata": {
    "ExecuteTime": {
     "end_time": "2019-09-21T04:55:02.232408Z",
     "start_time": "2019-09-21T04:55:02.211506Z"
    }
   },
   "outputs": [],
   "source": [
    "pickle_out = open(\"cell_list.pickle\",\"wb\")\n",
    "pickle.dump(cells, pickle_out)\n",
    "pickle_out.close()"
   ]
  },
  {
   "cell_type": "code",
   "execution_count": 5,
   "metadata": {
    "ExecuteTime": {
     "end_time": "2019-09-21T04:41:34.940954Z",
     "start_time": "2019-09-21T04:41:31.431335Z"
    }
   },
   "outputs": [],
   "source": [
    "graph = Graph()\n",
    "\n",
    "for cell in cells:\n",
    "    poss_neigh = [(cell[0]+i, cell[1]+j) for i in [-1, 0, 1] for j in [-1, 0, 1] ]\n",
    "    for n in poss_neigh:\n",
    "        if n in cells:\n",
    "            graph.add_edge(cell, n, {'cost': 1})"
   ]
  },
  {
   "cell_type": "code",
   "execution_count": 6,
   "metadata": {
    "ExecuteTime": {
     "end_time": "2019-09-21T04:42:19.911976Z",
     "start_time": "2019-09-21T04:42:19.852010Z"
    }
   },
   "outputs": [],
   "source": [
    "pickle_out = open(\"graph.pickle\",\"wb\")\n",
    "pickle.dump(graph, pickle_out)\n",
    "pickle_out.close()"
   ]
  },
  {
   "cell_type": "code",
   "execution_count": 6,
   "metadata": {
    "ExecuteTime": {
     "end_time": "2019-09-21T03:25:19.695845Z",
     "start_time": "2019-09-21T03:25:19.656912Z"
    },
    "scrolled": false
   },
   "outputs": [
    {
     "data": {
      "text/plain": [
       "PathInfo(nodes=[(24, 105), (25, 104), (26, 103), (27, 102), (28, 101), (29, 100), (30, 99), (31, 99), (32, 98), (33, 97), (33, 96), (32, 95), (31, 94), (31, 93), (30, 92), (30, 91), (30, 90), (31, 89), (31, 88), (32, 87), (32, 86), (32, 85), (31, 84), (30, 83), (29, 82), (28, 81), (27, 80), (26, 79), (25, 78), (24, 77), (23, 76), (22, 75), (22, 74), (21, 73), (21, 72), (21, 71), (20, 70), (21, 69), (22, 68), (23, 67), (24, 66), (25, 65), (26, 64), (27, 63), (28, 62), (29, 61), (30, 60), (31, 59), (32, 58), (33, 57), (34, 56), (35, 55), (36, 54), (37, 53), (38, 52)], edges=[{'cost': 1}, {'cost': 1}, {'cost': 1}, {'cost': 1}, {'cost': 1}, {'cost': 1}, {'cost': 1}, {'cost': 1}, {'cost': 1}, {'cost': 1}, {'cost': 1}, {'cost': 1}, {'cost': 1}, {'cost': 1}, {'cost': 1}, {'cost': 1}, {'cost': 1}, {'cost': 1}, {'cost': 1}, {'cost': 1}, {'cost': 1}, {'cost': 1}, {'cost': 1}, {'cost': 1}, {'cost': 1}, {'cost': 1}, {'cost': 1}, {'cost': 1}, {'cost': 1}, {'cost': 1}, {'cost': 1}, {'cost': 1}, {'cost': 1}, {'cost': 1}, {'cost': 1}, {'cost': 1}, {'cost': 1}, {'cost': 1}, {'cost': 1}, {'cost': 1}, {'cost': 1}, {'cost': 1}, {'cost': 1}, {'cost': 1}, {'cost': 1}, {'cost': 1}, {'cost': 1}, {'cost': 1}, {'cost': 1}, {'cost': 1}, {'cost': 1}, {'cost': 1}, {'cost': 1}, {'cost': 1}], costs=[1, 1, 1, 1, 1, 1, 1, 1, 1, 1, 1, 1, 1, 1, 1, 1, 1, 1, 1, 1, 1, 1, 1, 1, 1, 1, 1, 1, 1, 1, 1, 1, 1, 1, 1, 1, 1, 1, 1, 1, 1, 1, 1, 1, 1, 1, 1, 1, 1, 1, 1, 1, 1, 1], total_cost=54)"
      ]
     },
     "execution_count": 6,
     "metadata": {},
     "output_type": "execute_result"
    }
   ],
   "source": [
    "# cost_func = lambda u, v, e, prev_e: e['cost']\n",
    "# find_path(graph, (24, 105), (38, 52), cost_func=cost_func)"
   ]
  }
 ],
 "metadata": {
  "kernelspec": {
   "display_name": "Python 3",
   "language": "python",
   "name": "python3"
  },
  "language_info": {
   "codemirror_mode": {
    "name": "ipython",
    "version": 3
   },
   "file_extension": ".py",
   "mimetype": "text/x-python",
   "name": "python",
   "nbconvert_exporter": "python",
   "pygments_lexer": "ipython3",
   "version": "3.7.3"
  },
  "latex_envs": {
   "LaTeX_envs_menu_present": true,
   "autoclose": false,
   "autocomplete": true,
   "bibliofile": "biblio.bib",
   "cite_by": "apalike",
   "current_citInitial": 1,
   "eqLabelWithNumbers": true,
   "eqNumInitial": 1,
   "hotkeys": {
    "equation": "Ctrl-E",
    "itemize": "Ctrl-I"
   },
   "labels_anchors": false,
   "latex_user_defs": false,
   "report_style_numbering": false,
   "user_envs_cfg": false
  },
  "toc": {
   "base_numbering": 1,
   "nav_menu": {},
   "number_sections": true,
   "sideBar": true,
   "skip_h1_title": false,
   "title_cell": "Table of Contents",
   "title_sidebar": "Contents",
   "toc_cell": false,
   "toc_position": {},
   "toc_section_display": true,
   "toc_window_display": false
  }
 },
 "nbformat": 4,
 "nbformat_minor": 2
}
