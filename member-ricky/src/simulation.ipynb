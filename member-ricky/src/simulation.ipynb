{
 "cells": [
  {
   "cell_type": "code",
   "execution_count": 8,
   "metadata": {
    "ExecuteTime": {
     "end_time": "2019-09-22T05:24:07.703977Z",
     "start_time": "2019-09-22T05:24:07.694995Z"
    }
   },
   "outputs": [],
   "source": [
    "import geopandas as gpd\n",
    "import matplotlib.pyplot as plt\n",
    "%matplotlib inline\n",
    "import pandas as pd\n",
    "import pickle"
   ]
  },
  {
   "cell_type": "code",
   "execution_count": 9,
   "metadata": {
    "ExecuteTime": {
     "end_time": "2019-09-22T05:24:09.100850Z",
     "start_time": "2019-09-22T05:24:08.719779Z"
    }
   },
   "outputs": [],
   "source": [
    "pickle_in = open(\"gdf_gb_ter.pickle\",\"rb\")\n",
    "gdf_gb_ter = pickle.load(pickle_in)"
   ]
  },
  {
   "cell_type": "code",
   "execution_count": 11,
   "metadata": {
    "ExecuteTime": {
     "end_time": "2019-09-22T05:24:21.791334Z",
     "start_time": "2019-09-22T05:24:21.764763Z"
    }
   },
   "outputs": [
    {
     "data": {
      "text/html": [
       "<div>\n",
       "<style scoped>\n",
       "    .dataframe tbody tr th:only-of-type {\n",
       "        vertical-align: middle;\n",
       "    }\n",
       "\n",
       "    .dataframe tbody tr th {\n",
       "        vertical-align: top;\n",
       "    }\n",
       "\n",
       "    .dataframe thead th {\n",
       "        text-align: right;\n",
       "    }\n",
       "</style>\n",
       "<table border=\"1\" class=\"dataframe\">\n",
       "  <thead>\n",
       "    <tr style=\"text-align: right;\">\n",
       "      <th></th>\n",
       "      <th>geometry</th>\n",
       "      <th>id</th>\n",
       "      <th>PickupCell</th>\n",
       "      <th>day_of_week</th>\n",
       "      <th>minute_of_day</th>\n",
       "      <th>avg(td)</th>\n",
       "      <th>avg(te)</th>\n",
       "      <th>avg(ter)</th>\n",
       "    </tr>\n",
       "  </thead>\n",
       "  <tbody>\n",
       "    <tr>\n",
       "      <th>0</th>\n",
       "      <td>POLYGON ((-74.01872951254884 40.70458412702708...</td>\n",
       "      <td>26:79</td>\n",
       "      <td>26:79</td>\n",
       "      <td>6</td>\n",
       "      <td>16:50:00</td>\n",
       "      <td>239.0</td>\n",
       "      <td>9.46</td>\n",
       "      <td>0.039582</td>\n",
       "    </tr>\n",
       "    <tr>\n",
       "      <th>1</th>\n",
       "      <td>POLYGON ((-73.91416841969826 40.74571778553069...</td>\n",
       "      <td>38:60</td>\n",
       "      <td>38:60</td>\n",
       "      <td>0</td>\n",
       "      <td>00:16:00</td>\n",
       "      <td>190.0</td>\n",
       "      <td>6.30</td>\n",
       "      <td>0.033158</td>\n",
       "    </tr>\n",
       "    <tr>\n",
       "      <th>2</th>\n",
       "      <td>POLYGON ((-73.91416841969826 40.74571778553069...</td>\n",
       "      <td>38:60</td>\n",
       "      <td>38:60</td>\n",
       "      <td>0</td>\n",
       "      <td>01:21:00</td>\n",
       "      <td>780.0</td>\n",
       "      <td>15.82</td>\n",
       "      <td>0.020282</td>\n",
       "    </tr>\n",
       "    <tr>\n",
       "      <th>3</th>\n",
       "      <td>POLYGON ((-73.91416841969826 40.74571778553069...</td>\n",
       "      <td>38:60</td>\n",
       "      <td>38:60</td>\n",
       "      <td>0</td>\n",
       "      <td>06:21:00</td>\n",
       "      <td>826.0</td>\n",
       "      <td>16.80</td>\n",
       "      <td>0.020339</td>\n",
       "    </tr>\n",
       "    <tr>\n",
       "      <th>4</th>\n",
       "      <td>POLYGON ((-73.91416841969826 40.74571778553069...</td>\n",
       "      <td>38:60</td>\n",
       "      <td>38:60</td>\n",
       "      <td>0</td>\n",
       "      <td>15:36:00</td>\n",
       "      <td>357.0</td>\n",
       "      <td>7.80</td>\n",
       "      <td>0.021849</td>\n",
       "    </tr>\n",
       "  </tbody>\n",
       "</table>\n",
       "</div>"
      ],
      "text/plain": [
       "                                            geometry     id PickupCell  \\\n",
       "0  POLYGON ((-74.01872951254884 40.70458412702708...  26:79      26:79   \n",
       "1  POLYGON ((-73.91416841969826 40.74571778553069...  38:60      38:60   \n",
       "2  POLYGON ((-73.91416841969826 40.74571778553069...  38:60      38:60   \n",
       "3  POLYGON ((-73.91416841969826 40.74571778553069...  38:60      38:60   \n",
       "4  POLYGON ((-73.91416841969826 40.74571778553069...  38:60      38:60   \n",
       "\n",
       "   day_of_week minute_of_day  avg(td)  avg(te)  avg(ter)  \n",
       "0            6      16:50:00    239.0     9.46  0.039582  \n",
       "1            0      00:16:00    190.0     6.30  0.033158  \n",
       "2            0      01:21:00    780.0    15.82  0.020282  \n",
       "3            0      06:21:00    826.0    16.80  0.020339  \n",
       "4            0      15:36:00    357.0     7.80  0.021849  "
      ]
     },
     "execution_count": 11,
     "metadata": {},
     "output_type": "execute_result"
    }
   ],
   "source": [
    "gdf_gb_ter.head()"
   ]
  },
  {
   "cell_type": "markdown",
   "metadata": {},
   "source": [
    "###  Simulation\n",
    "* origin cell id: \"23:60\"\n",
    "* time: 8:00 am\n",
    "* day: Monday"
   ]
  },
  {
   "cell_type": "code",
   "execution_count": 12,
   "metadata": {
    "ExecuteTime": {
     "end_time": "2019-09-22T05:25:17.756348Z",
     "start_time": "2019-09-22T05:25:17.617116Z"
    }
   },
   "outputs": [],
   "source": [
    "pickle_in = open(\"graph.pickle\",\"rb\")\n",
    "graph = pickle.load(pickle_in)"
   ]
  },
  {
   "cell_type": "code",
   "execution_count": 13,
   "metadata": {
    "ExecuteTime": {
     "end_time": "2019-09-22T05:25:18.373293Z",
     "start_time": "2019-09-22T05:25:18.368918Z"
    }
   },
   "outputs": [],
   "source": [
    "from dijkstar import find_path"
   ]
  },
  {
   "cell_type": "code",
   "execution_count": 14,
   "metadata": {
    "ExecuteTime": {
     "end_time": "2019-09-22T05:25:19.319772Z",
     "start_time": "2019-09-22T05:25:19.314770Z"
    }
   },
   "outputs": [],
   "source": [
    "cost_func = lambda u, v, e, prev_e: e['cost']"
   ]
  },
  {
   "cell_type": "code",
   "execution_count": 15,
   "metadata": {
    "ExecuteTime": {
     "end_time": "2019-09-22T05:25:24.518111Z",
     "start_time": "2019-09-22T05:25:24.496162Z"
    }
   },
   "outputs": [],
   "source": [
    "pickle_in = open(\"cell_list.pickle\",\"rb\")\n",
    "cells = pickle.load(pickle_in)"
   ]
  },
  {
   "cell_type": "code",
   "execution_count": 16,
   "metadata": {
    "ExecuteTime": {
     "end_time": "2019-09-22T05:26:27.949070Z",
     "start_time": "2019-09-22T05:25:31.514964Z"
    }
   },
   "outputs": [],
   "source": [
    "origin_cell = (23, 60)\n",
    "dd = [find_path(graph, origin_cell, cell, cost_func=cost_func).total_cost for cell in cells]"
   ]
  },
  {
   "cell_type": "code",
   "execution_count": 17,
   "metadata": {
    "ExecuteTime": {
     "end_time": "2019-09-22T05:26:27.981909Z",
     "start_time": "2019-09-22T05:26:27.953216Z"
    }
   },
   "outputs": [],
   "source": [
    "cells = pd.read_csv('cells.csv')"
   ]
  },
  {
   "cell_type": "code",
   "execution_count": 22,
   "metadata": {
    "ExecuteTime": {
     "end_time": "2019-09-22T05:27:16.363396Z",
     "start_time": "2019-09-22T05:27:16.355324Z"
    }
   },
   "outputs": [],
   "source": [
    "cells['driving_duration'] = dd"
   ]
  },
  {
   "cell_type": "code",
   "execution_count": 24,
   "metadata": {
    "ExecuteTime": {
     "end_time": "2019-09-22T05:27:21.225478Z",
     "start_time": "2019-09-22T05:27:20.980110Z"
    }
   },
   "outputs": [],
   "source": [
    "gdf = gdf_gb_ter.merge(cells, left_on = \"id\", right_on = \"id\")"
   ]
  },
  {
   "cell_type": "code",
   "execution_count": 36,
   "metadata": {
    "ExecuteTime": {
     "end_time": "2019-09-22T05:33:43.212435Z",
     "start_time": "2019-09-22T05:33:43.156580Z"
    }
   },
   "outputs": [],
   "source": [
    "# origin cell id: \"23:60\"\n",
    "# time: 08:00:00\n",
    "# day: Monday\n",
    "\n",
    "for d in [0, 5]:\n",
    "    for m in ['08:00:00', \"23:00:00\"]:\n",
    "        gdf_sim = gdf[(gdf['day_of_week'] == day_of_week) & (gdf['minute_of_day'] == minute_of_day)]"
   ]
  },
  {
   "cell_type": "code",
   "execution_count": 66,
   "metadata": {
    "ExecuteTime": {
     "end_time": "2019-09-22T06:23:32.508290Z",
     "start_time": "2019-09-22T06:23:31.826257Z"
    },
    "scrolled": true
   },
   "outputs": [
    {
     "data": {
      "image/png": "[encoded data removed]",
      "text/plain": [
       "<Figure size 864x432 with 2 Axes>"
      ]
     },
     "metadata": {
      "needs_background": "light"
     },
     "output_type": "display_data"
    }
   ],
   "source": [
    "gdf_sim.plot(column = \"avg(ter)\", legend=True, figsize=(12,6))\n",
    "plt.title(\"Simulation: Cell 23:60, Monday 08:00:00\")\n",
    "plt.savefig(\"gdf_sim.png\")"
   ]
  },
  {
   "cell_type": "code",
   "execution_count": null,
   "metadata": {},
   "outputs": [],
   "source": []
  }
 ],
 "metadata": {
  "kernelspec": {
   "display_name": "Python 3",
   "language": "python",
   "name": "python3"
  },
  "latex_envs": {
   "LaTeX_envs_menu_present": true,
   "autoclose": false,
   "autocomplete": true,
   "bibliofile": "biblio.bib",
   "cite_by": "apalike",
   "current_citInitial": 1,
   "eqLabelWithNumbers": true,
   "eqNumInitial": 1,
   "hotkeys": {
    "equation": "Ctrl-E",
    "itemize": "Ctrl-I"
   },
   "labels_anchors": false,
   "latex_user_defs": false,
   "report_style_numbering": false,
   "user_envs_cfg": false
  },
  "toc": {
   "base_numbering": 1,
   "nav_menu": {},
   "number_sections": true,
   "sideBar": true,
   "skip_h1_title": false,
   "title_cell": "Table of Contents",
   "title_sidebar": "Contents",
   "toc_cell": false,
   "toc_position": {},
   "toc_section_display": true,
   "toc_window_display": false
  }
 },
 "nbformat": 4,
 "nbformat_minor": 2
}
