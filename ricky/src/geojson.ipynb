{
 "cells": [
  {
   "cell_type": "code",
   "execution_count": 22,
   "metadata": {
    "ExecuteTime": {
     "end_time": "2019-09-22T05:23:16.410569Z",
     "start_time": "2019-09-22T05:23:16.404576Z"
    }
   },
   "outputs": [],
   "source": [
    "import json\n",
    "import geopandas as gpd\n",
    "import pandas as pd\n",
    "import pickle"
   ]
  },
  {
   "cell_type": "code",
   "execution_count": 2,
   "metadata": {
    "ExecuteTime": {
     "end_time": "2019-09-22T05:06:54.970630Z",
     "start_time": "2019-09-22T05:06:54.866887Z"
    }
   },
   "outputs": [],
   "source": [
    "with open('game_board_2019.geojson') as f:\n",
    "    data = json.load(f)\n",
    "    \n",
    "cell_id = [f['properties']['id'] for f in data['features']]"
   ]
  },
  {
   "cell_type": "code",
   "execution_count": 5,
   "metadata": {
    "ExecuteTime": {
     "end_time": "2019-09-22T05:08:46.405913Z",
     "start_time": "2019-09-22T05:08:45.281964Z"
    }
   },
   "outputs": [],
   "source": [
    "df_ter = pd.read_csv(\"df_ter.csv\")"
   ]
  },
  {
   "cell_type": "code",
   "execution_count": 18,
   "metadata": {
    "ExecuteTime": {
     "end_time": "2019-09-22T05:22:45.639213Z",
     "start_time": "2019-09-22T05:22:44.393139Z"
    },
    "scrolled": true
   },
   "outputs": [],
   "source": [
    "gdf_gb = gpd.read_file(\"game_board_2019.geojson\")"
   ]
  },
  {
   "cell_type": "code",
   "execution_count": 19,
   "metadata": {
    "ExecuteTime": {
     "end_time": "2019-09-22T05:22:46.572488Z",
     "start_time": "2019-09-22T05:22:46.566356Z"
    }
   },
   "outputs": [],
   "source": [
    "gdf_gb['id'] = cell_id"
   ]
  },
  {
   "cell_type": "code",
   "execution_count": 20,
   "metadata": {
    "ExecuteTime": {
     "end_time": "2019-09-22T05:22:52.372526Z",
     "start_time": "2019-09-22T05:22:52.067302Z"
    },
    "scrolled": true
   },
   "outputs": [],
   "source": [
    "gdf_gb_ter = gdf_gb.merge(df_ter, left_on = \"id\", right_on=\"PickupCell\")"
   ]
  },
  {
   "cell_type": "code",
   "execution_count": 23,
   "metadata": {
    "ExecuteTime": {
     "end_time": "2019-09-22T05:23:19.183137Z",
     "start_time": "2019-09-22T05:23:18.830920Z"
    }
   },
   "outputs": [],
   "source": [
    "pickle_out = open(\"gdf_gb_ter.pickle\",\"wb\")\n",
    "pickle.dump(gdf_gb_ter, pickle_out)\n",
    "pickle_out.close()"
   ]
  }
 ],
 "metadata": {
  "kernelspec": {
   "display_name": "Python 3",
   "language": "python",
   "name": "python3"
  },
  "language_info": {
   "codemirror_mode": {
    "name": "ipython",
    "version": 3
   },
   "file_extension": ".py",
   "mimetype": "text/x-python",
   "name": "python",
   "nbconvert_exporter": "python",
   "pygments_lexer": "ipython3",
   "version": "3.7.3"
  },
  "latex_envs": {
   "LaTeX_envs_menu_present": true,
   "autoclose": false,
   "autocomplete": true,
   "bibliofile": "biblio.bib",
   "cite_by": "apalike",
   "current_citInitial": 1,
   "eqLabelWithNumbers": true,
   "eqNumInitial": 1,
   "hotkeys": {
    "equation": "Ctrl-E",
    "itemize": "Ctrl-I"
   },
   "labels_anchors": false,
   "latex_user_defs": false,
   "report_style_numbering": false,
   "user_envs_cfg": false
  },
  "toc": {
   "base_numbering": 1,
   "nav_menu": {},
   "number_sections": true,
   "sideBar": true,
   "skip_h1_title": false,
   "title_cell": "Table of Contents",
   "title_sidebar": "Contents",
   "toc_cell": false,
   "toc_position": {},
   "toc_section_display": true,
   "toc_window_display": false
  }
 },
 "nbformat": 4,
 "nbformat_minor": 2
}
