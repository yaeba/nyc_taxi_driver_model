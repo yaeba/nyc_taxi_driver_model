{
 "cells": [
  {
   "cell_type": "code",
   "execution_count": 1,
   "metadata": {
    "ExecuteTime": {
     "end_time": "2019-09-21T03:25:05.031462Z",
     "start_time": "2019-09-21T03:24:58.122486Z"
    }
   },
   "outputs": [],
   "source": [
    "import pandas as pd\n",
    "from dijkstar import Graph, find_path"
   ]
  },
  {
   "cell_type": "code",
   "execution_count": 2,
   "metadata": {
    "ExecuteTime": {
     "end_time": "2019-09-21T03:25:05.096121Z",
     "start_time": "2019-09-21T03:25:05.034643Z"
    }
   },
   "outputs": [],
   "source": [
    "cells = pd.read_csv('../data/cells.txt', sep=\" \", header=None)"
   ]
  },
  {
   "cell_type": "code",
   "execution_count": 3,
   "metadata": {
    "ExecuteTime": {
     "end_time": "2019-09-21T03:25:05.104633Z",
     "start_time": "2019-09-21T03:25:05.099648Z"
    }
   },
   "outputs": [],
   "source": [
    "cells.rename(columns={0:\"id\"}, inplace=True)"
   ]
  },
  {
   "cell_type": "code",
   "execution_count": 4,
   "metadata": {
    "ExecuteTime": {
     "end_time": "2019-09-21T03:25:05.140569Z",
     "start_time": "2019-09-21T03:25:05.107624Z"
    }
   },
   "outputs": [],
   "source": [
    "cells = cells[\"id\"].str.split(\":\").apply(lambda x: tuple([int(x[0]), int(x[1])])).tolist()"
   ]
  },
  {
   "cell_type": "code",
   "execution_count": 5,
   "metadata": {
    "ExecuteTime": {
     "end_time": "2019-09-21T03:25:08.661410Z",
     "start_time": "2019-09-21T03:25:05.143529Z"
    }
   },
   "outputs": [],
   "source": [
    "graph = Graph()\n",
    "\n",
    "for cell in cells:\n",
    "    poss_neigh = [(cell[0]+i, cell[1]+j) for i in [-1, 0, 1] for j in [-1, 0, 1] ]\n",
    "    for n in poss_neigh:\n",
    "        if n in cells:\n",
    "            graph.add_edge(cell, n, {'cost': 1})"
   ]
  },
  {
   "cell_type": "code",
   "execution_count": 6,
   "metadata": {
    "ExecuteTime": {
     "end_time": "2019-09-21T03:25:19.695845Z",
     "start_time": "2019-09-21T03:25:19.656912Z"
    }
   },
   "outputs": [
    {
     "data": {
      "text/plain": [
       "PathInfo(nodes=[(24, 105), (25, 104), (26, 103), (27, 102), (28, 101), (29, 100), (30, 99), (31, 99), (32, 98), (33, 97), (33, 96), (32, 95), (31, 94), (31, 93), (30, 92), (30, 91), (30, 90), (31, 89), (31, 88), (32, 87), (32, 86), (32, 85), (31, 84), (30, 83), (29, 82), (28, 81), (27, 80), (26, 79), (25, 78), (24, 77), (23, 76), (22, 75), (22, 74), (21, 73), (21, 72), (21, 71), (20, 70), (21, 69), (22, 68), (23, 67), (24, 66), (25, 65), (26, 64), (27, 63), (28, 62), (29, 61), (30, 60), (31, 59), (32, 58), (33, 57), (34, 56), (35, 55), (36, 54), (37, 53), (38, 52)], edges=[{'cost': 1}, {'cost': 1}, {'cost': 1}, {'cost': 1}, {'cost': 1}, {'cost': 1}, {'cost': 1}, {'cost': 1}, {'cost': 1}, {'cost': 1}, {'cost': 1}, {'cost': 1}, {'cost': 1}, {'cost': 1}, {'cost': 1}, {'cost': 1}, {'cost': 1}, {'cost': 1}, {'cost': 1}, {'cost': 1}, {'cost': 1}, {'cost': 1}, {'cost': 1}, {'cost': 1}, {'cost': 1}, {'cost': 1}, {'cost': 1}, {'cost': 1}, {'cost': 1}, {'cost': 1}, {'cost': 1}, {'cost': 1}, {'cost': 1}, {'cost': 1}, {'cost': 1}, {'cost': 1}, {'cost': 1}, {'cost': 1}, {'cost': 1}, {'cost': 1}, {'cost': 1}, {'cost': 1}, {'cost': 1}, {'cost': 1}, {'cost': 1}, {'cost': 1}, {'cost': 1}, {'cost': 1}, {'cost': 1}, {'cost': 1}, {'cost': 1}, {'cost': 1}, {'cost': 1}, {'cost': 1}], costs=[1, 1, 1, 1, 1, 1, 1, 1, 1, 1, 1, 1, 1, 1, 1, 1, 1, 1, 1, 1, 1, 1, 1, 1, 1, 1, 1, 1, 1, 1, 1, 1, 1, 1, 1, 1, 1, 1, 1, 1, 1, 1, 1, 1, 1, 1, 1, 1, 1, 1, 1, 1, 1, 1], total_cost=54)"
      ]
     },
     "execution_count": 6,
     "metadata": {},
     "output_type": "execute_result"
    }
   ],
   "source": [
    "cost_func = lambda u, v, e, prev_e: e['cost']\n",
    "find_path(graph, (24, 105), (38, 52), cost_func=cost_func)"
   ]
  },
  {
   "cell_type": "markdown",
   "metadata": {},
   "source": [
    "## Example to show how to use utils/bfs.py"
   ]
  },
  {
   "cell_type": "markdown",
   "metadata": {},
   "source": [
    "Contains the following functions:  \n",
    "`[prepare_graph, save_graph, load_graph, bfs, find_shortest_path, to_tuple, to_cell_id]`"
   ]
  },
  {
   "cell_type": "markdown",
   "metadata": {},
   "source": [
    "Depending on where you are importing, you may need to do  \n",
    "`import sys; sys.path.append('..')` if you are in another subdirectory, eg from xuankent/"
   ]
  },
  {
   "cell_type": "code",
   "execution_count": 7,
   "metadata": {},
   "outputs": [],
   "source": [
    "from utils import bfs"
   ]
  },
  {
   "cell_type": "markdown",
   "metadata": {},
   "source": [
    "Prepare graph does the same thing as above (returns a Graph object)"
   ]
  },
  {
   "cell_type": "code",
   "execution_count": 8,
   "metadata": {},
   "outputs": [],
   "source": [
    "graph = bfs.prepare_graph(\"../data/cells.txt\")"
   ]
  },
  {
   "cell_type": "markdown",
   "metadata": {},
   "source": [
    "Save graph to file"
   ]
  },
  {
   "cell_type": "code",
   "execution_count": 9,
   "metadata": {},
   "outputs": [],
   "source": [
    "bfs.save_graph(graph, \"../data/graph.pkl\")"
   ]
  },
  {
   "cell_type": "markdown",
   "metadata": {},
   "source": [
    "Load saved graph (used without preparing model every single time)"
   ]
  },
  {
   "cell_type": "code",
   "execution_count": 10,
   "metadata": {},
   "outputs": [],
   "source": [
    "del graph\n",
    "graph = bfs.load_graph(\"../data/graph.pkl\")"
   ]
  },
  {
   "cell_type": "markdown",
   "metadata": {},
   "source": [
    "Compute costs to all other reachable cells with BFS (returns a dict)  \n",
    "This is more efficient and we don't need to call dijkstar.find_path for every other cell.  \n",
    "Briefly, assuming A -> B -> C, it computes cost from A to C by reusing cost of A to B"
   ]
  },
  {
   "cell_type": "code",
   "execution_count": 11,
   "metadata": {},
   "outputs": [
    {
     "data": {
      "text/plain": [
       "{'24:105': 0,\n",
       " '23:104': 1,\n",
       " '23:105': 1,\n",
       " '23:106': 1,\n",
       " '24:104': 1,\n",
       " '24:106': 1,\n",
       " '25:104': 1,\n",
       " '25:105': 1,\n",
       " '25:106': 1,\n",
       " '22:103': 2,\n",
       " '22:104': 2,\n",
       " '22:105': 2,\n",
       " '23:103': 2,\n",
       " '24:103': 2,\n",
       " '22:106': 2}"
      ]
     },
     "execution_count": 11,
     "metadata": {},
     "output_type": "execute_result"
    }
   ],
   "source": [
    "start = \"24:105\"\n",
    "\n",
    "costs = bfs.bfs(graph, start)\n",
    "\n",
    "# Just a subset of the dictionary\n",
    "dict(list(costs.items())[0:15])"
   ]
  },
  {
   "cell_type": "markdown",
   "metadata": {},
   "source": [
    "This function should be sufficiently fast, or we could add in another optional argument for it to stop computing once we have reached, say 30 cost (30 minutes away from reaching)"
   ]
  },
  {
   "cell_type": "code",
   "execution_count": 12,
   "metadata": {
    "scrolled": true
   },
   "outputs": [
    {
     "name": "stdout",
     "output_type": "stream",
     "text": [
      "17.6 ms ± 2.04 ms per loop (mean ± std. dev. of 7 runs, 100 loops each)\n"
     ]
    }
   ],
   "source": [
    "%timeit bfs.bfs(graph, start)"
   ]
  },
  {
   "cell_type": "markdown",
   "metadata": {},
   "source": [
    "Wrapper for dijkstar.find_path (returns just the path to destination cell)  \n",
    "To be used after we know which is the cell we want to head to"
   ]
  },
  {
   "cell_type": "code",
   "execution_count": 13,
   "metadata": {
    "scrolled": true
   },
   "outputs": [
    {
     "data": {
      "text/plain": [
       "[(24, 105), (24, 104), (25, 103), (26, 102), (27, 101), (28, 100)]"
      ]
     },
     "execution_count": 13,
     "metadata": {},
     "output_type": "execute_result"
    }
   ],
   "source": [
    "dest = \"28:100\"\n",
    "\n",
    "bfs.find_shortest_path(graph, start, dest)"
   ]
  },
  {
   "cell_type": "markdown",
   "metadata": {},
   "source": [
    "## Trying it out"
   ]
  },
  {
   "cell_type": "markdown",
   "metadata": {},
   "source": [
    "Assuming we are currently at cell \"20:100\""
   ]
  },
  {
   "cell_type": "code",
   "execution_count": 14,
   "metadata": {},
   "outputs": [],
   "source": [
    "start = \"20:100\"\n",
    "\n",
    "graph = bfs.load_graph(\"../data/graph.pkl\")"
   ]
  },
  {
   "cell_type": "code",
   "execution_count": 15,
   "metadata": {},
   "outputs": [
    {
     "data": {
      "text/html": [
       "<div>\n",
       "<style scoped>\n",
       "    .dataframe tbody tr th:only-of-type {\n",
       "        vertical-align: middle;\n",
       "    }\n",
       "\n",
       "    .dataframe tbody tr th {\n",
       "        vertical-align: top;\n",
       "    }\n",
       "\n",
       "    .dataframe thead th {\n",
       "        text-align: right;\n",
       "    }\n",
       "</style>\n",
       "<table border=\"1\" class=\"dataframe\">\n",
       "  <thead>\n",
       "    <tr style=\"text-align: right;\">\n",
       "      <th></th>\n",
       "      <th>Location</th>\n",
       "    </tr>\n",
       "  </thead>\n",
       "  <tbody>\n",
       "    <tr>\n",
       "      <th>0</th>\n",
       "      <td>23:104</td>\n",
       "    </tr>\n",
       "    <tr>\n",
       "      <th>1</th>\n",
       "      <td>23:105</td>\n",
       "    </tr>\n",
       "    <tr>\n",
       "      <th>2</th>\n",
       "      <td>26:79</td>\n",
       "    </tr>\n",
       "    <tr>\n",
       "      <th>3</th>\n",
       "      <td>23:106</td>\n",
       "    </tr>\n",
       "    <tr>\n",
       "      <th>4</th>\n",
       "      <td>23:107</td>\n",
       "    </tr>\n",
       "  </tbody>\n",
       "</table>\n",
       "</div>"
      ],
      "text/plain": [
       "  Location\n",
       "0   23:104\n",
       "1   23:105\n",
       "2    26:79\n",
       "3   23:106\n",
       "4   23:107"
      ]
     },
     "execution_count": 15,
     "metadata": {},
     "output_type": "execute_result"
    }
   ],
   "source": [
    "all_cells = pd.DataFrame({'Location': list(map(bfs.to_cell_id, graph.keys()))})\n",
    "all_cells.head()"
   ]
  },
  {
   "cell_type": "markdown",
   "metadata": {},
   "source": [
    "One **caveat** is that for some of the cells, we might not be able to reach at all"
   ]
  },
  {
   "cell_type": "code",
   "execution_count": 16,
   "metadata": {},
   "outputs": [],
   "source": [
    "costs = bfs.bfs(graph, start)\n",
    "find_cost = lambda cell: costs[cell] if cell in costs else None"
   ]
  },
  {
   "cell_type": "code",
   "execution_count": 17,
   "metadata": {},
   "outputs": [
    {
     "data": {
      "text/html": [
       "<div>\n",
       "<style scoped>\n",
       "    .dataframe tbody tr th:only-of-type {\n",
       "        vertical-align: middle;\n",
       "    }\n",
       "\n",
       "    .dataframe tbody tr th {\n",
       "        vertical-align: top;\n",
       "    }\n",
       "\n",
       "    .dataframe thead th {\n",
       "        text-align: right;\n",
       "    }\n",
       "</style>\n",
       "<table border=\"1\" class=\"dataframe\">\n",
       "  <thead>\n",
       "    <tr style=\"text-align: right;\">\n",
       "      <th></th>\n",
       "      <th>Location</th>\n",
       "      <th>Cost</th>\n",
       "    </tr>\n",
       "  </thead>\n",
       "  <tbody>\n",
       "    <tr>\n",
       "      <th>0</th>\n",
       "      <td>23:104</td>\n",
       "      <td>4</td>\n",
       "    </tr>\n",
       "    <tr>\n",
       "      <th>1</th>\n",
       "      <td>23:105</td>\n",
       "      <td>5</td>\n",
       "    </tr>\n",
       "    <tr>\n",
       "      <th>2</th>\n",
       "      <td>26:79</td>\n",
       "      <td>31</td>\n",
       "    </tr>\n",
       "    <tr>\n",
       "      <th>3</th>\n",
       "      <td>23:106</td>\n",
       "      <td>6</td>\n",
       "    </tr>\n",
       "    <tr>\n",
       "      <th>4</th>\n",
       "      <td>23:107</td>\n",
       "      <td>7</td>\n",
       "    </tr>\n",
       "  </tbody>\n",
       "</table>\n",
       "</div>"
      ],
      "text/plain": [
       "  Location  Cost\n",
       "0   23:104     4\n",
       "1   23:105     5\n",
       "2    26:79    31\n",
       "3   23:106     6\n",
       "4   23:107     7"
      ]
     },
     "execution_count": 17,
     "metadata": {},
     "output_type": "execute_result"
    }
   ],
   "source": [
    "all_cells['Cost'] = all_cells['Location'].map(find_cost)\n",
    "all_cells.head()"
   ]
  },
  {
   "cell_type": "markdown",
   "metadata": {},
   "source": [
    "We can then add in the cost to current time in order to obtain the time for us to reach those cells  \n",
    "\n",
    "-----**AFTER SOME PREDICTION**-----  \n",
    "\n",
    "Assuming we want to go to cell \"20:120\""
   ]
  },
  {
   "cell_type": "code",
   "execution_count": 18,
   "metadata": {},
   "outputs": [
    {
     "data": {
      "text/plain": [
       "[(20, 100),\n",
       " (19, 101),\n",
       " (18, 102),\n",
       " (17, 103),\n",
       " (16, 104),\n",
       " (15, 105),\n",
       " (14, 106),\n",
       " (13, 107),\n",
       " (13, 108),\n",
       " (14, 109),\n",
       " (15, 110),\n",
       " (16, 111),\n",
       " (17, 112),\n",
       " (18, 113),\n",
       " (19, 114),\n",
       " (20, 115),\n",
       " (20, 116),\n",
       " (20, 117),\n",
       " (20, 118),\n",
       " (20, 119),\n",
       " (21, 120)]"
      ]
     },
     "execution_count": 18,
     "metadata": {},
     "output_type": "execute_result"
    }
   ],
   "source": [
    "dest = \"21:120\"\n",
    "path = bfs.find_shortest_path(graph, start, dest)\n",
    "path"
   ]
  },
  {
   "cell_type": "markdown",
   "metadata": {},
   "source": [
    "This is an example when we cannot travel in straight from \"20:100\" to \"21:120\".  \n",
    "So our next move is to head to \"19:101\" (`path[1]`)  \n",
    "A visualization of the map and all cells may be required in order to **validate** the results"
   ]
  }
 ],
 "metadata": {
  "kernelspec": {
   "display_name": "Python 3",
   "language": "python",
   "name": "python3"
  },
  "language_info": {
   "codemirror_mode": {
    "name": "ipython",
    "version": 3
   },
   "file_extension": ".py",
   "mimetype": "text/x-python",
   "name": "python",
   "nbconvert_exporter": "python",
   "pygments_lexer": "ipython3",
   "version": "3.6.8"
  },
  "latex_envs": {
   "LaTeX_envs_menu_present": true,
   "autoclose": false,
   "autocomplete": true,
   "bibliofile": "biblio.bib",
   "cite_by": "apalike",
   "current_citInitial": 1,
   "eqLabelWithNumbers": true,
   "eqNumInitial": 1,
   "hotkeys": {
    "equation": "Ctrl-E",
    "itemize": "Ctrl-I"
   },
   "labels_anchors": false,
   "latex_user_defs": false,
   "report_style_numbering": false,
   "user_envs_cfg": false
  },
  "toc": {
   "base_numbering": 1,
   "nav_menu": {},
   "number_sections": true,
   "sideBar": true,
   "skip_h1_title": false,
   "title_cell": "Table of Contents",
   "title_sidebar": "Contents",
   "toc_cell": false,
   "toc_position": {},
   "toc_section_display": true,
   "toc_window_display": false
  }
 },
 "nbformat": 4,
 "nbformat_minor": 2
}
