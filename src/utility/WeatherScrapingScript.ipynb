{
 "cells": [
  {
   "cell_type": "markdown",
   "metadata": {},
   "source": [
    "### Note\n",
    "Before running the script, make sure to download Selenium Chrome Webdriver from [here](https://chromedriver.chromium.org/downloads) to your custom local directory.  "
   ]
  },
  {
   "cell_type": "code",
   "execution_count": null,
   "metadata": {},
   "outputs": [],
   "source": [
    "import time\n",
    "from datetime import *\n",
    "import pandas as pd\n",
    "import numpy as np"
   ]
  },
  {
   "cell_type": "code",
   "execution_count": null,
   "metadata": {},
   "outputs": [],
   "source": [
    "import requests, re, typing\n",
    "from bs4 import BeautifulSoup as soup\n",
    "import contextlib\n",
    "def _remove(d:list) -> list:\n",
    "   return list(filter(None, [re.sub('\\xa0', '', b) for b in d]))\n",
    "\n",
    "@contextlib.contextmanager\n",
    "def get_weather_data(url:str, by_url = True) -> typing.Generator[dict, None, None]:\n",
    "   d = soup(requests.get(url).text if by_url else url, 'html.parser')\n",
    "   _table = d.find('table', {'id':'wt-his'})\n",
    "   _data = [[[i.text for i in c.find_all('th')], *[i.text for i in c.find_all('td')]] for c in _table.find_all('tr')]\n",
    "   [h1], [h2], *data, _ = _data\n",
    "   _h2 = _remove(h2)\n",
    "   yield {tuple(_remove(h1)):[dict(zip(_h2, _remove([a, *i]))) for [[a], *i] in data]}"
   ]
  },
  {
   "cell_type": "code",
   "execution_count": null,
   "metadata": {},
   "outputs": [],
   "source": [
    "from selenium import webdriver\n",
    "from selenium.webdriver.support.ui import WebDriverWait\n",
    "from selenium.webdriver.support import expected_conditions as EC\n",
    "from selenium.webdriver.common.by import By\n",
    "\n",
    "# Direct to Selenium Chrome Webdriver\n",
    "driver = webdriver.Chrome(\"/your/webdriver/directory\")\n",
    "\n",
    "_d = {}\n",
    "\n",
    "months = ['January', 'February', 'March', 'April', 'May', 'June', 'July', 'August', 'September', 'October', 'November', 'December']\n",
    "\n",
    "for m in range(1, len(months)+1):\n",
    "    driver.get(\"https://www.timeanddate.com/weather/usa/new-york/historic?month=\"+str(m)+\"&year=2017\")\n",
    "    options = driver.find_element_by_id('wt-his-select').find_elements_by_tag_name('option')\n",
    "    for i in range(1, len(options)+1):\n",
    "        options[i-1].click()\n",
    "        WebDriverWait(driver, 10).until(\n",
    "            EC.text_to_be_present_in_element((By.ID, \"wt-his-title\"), \"New York Weather History for \"+str(i)+\" \"+months[m-1]+\" 2017\")\n",
    "        )\n",
    "        print(driver.find_element_by_id(\"wt-his-title\").text, \"New York Weather History for \"+str(i)+\" \"+months[m-1]+\" 2017\")\n",
    "        with get_weather_data(driver.page_source, False) as weather:\n",
    "            _d[options[i-1].text] = weather\n",
    "driver.close()"
   ]
  },
  {
   "cell_type": "code",
   "execution_count": null,
   "metadata": {},
   "outputs": [],
   "source": [
    "for a, b in _d.items():\n",
    "    print(a, b)"
   ]
  }
 ],
 "metadata": {
  "kernelspec": {
   "display_name": "Python 3",
   "language": "python",
   "name": "python3"
  },
  "language_info": {
   "codemirror_mode": {
    "name": "ipython",
    "version": 3
   },
   "file_extension": ".py",
   "mimetype": "text/x-python",
   "name": "python",
   "nbconvert_exporter": "python",
   "pygments_lexer": "ipython3",
   "version": "3.7.3"
  },
  "latex_envs": {
   "LaTeX_envs_menu_present": true,
   "autoclose": false,
   "autocomplete": true,
   "bibliofile": "biblio.bib",
   "cite_by": "apalike",
   "current_citInitial": 1,
   "eqLabelWithNumbers": true,
   "eqNumInitial": 1,
   "hotkeys": {
    "equation": "Ctrl-E",
    "itemize": "Ctrl-I"
   },
   "labels_anchors": false,
   "latex_user_defs": false,
   "report_style_numbering": false,
   "user_envs_cfg": false
  },
  "toc": {
   "base_numbering": 1,
   "nav_menu": {},
   "number_sections": true,
   "sideBar": true,
   "skip_h1_title": false,
   "title_cell": "Table of Contents",
   "title_sidebar": "Contents",
   "toc_cell": false,
   "toc_position": {},
   "toc_section_display": true,
   "toc_window_display": false
  }
 },
 "nbformat": 4,
 "nbformat_minor": 2
}
